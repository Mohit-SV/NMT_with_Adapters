{
  "cells": [
    {
      "cell_type": "markdown",
      "metadata": {
        "id": "a934948f7030"
      },
      "source": [
        "# Adapting High-resource NMT Models to Translate Low-resource Related Languages while Keeping into Account Catastrophic Forgetting\n",
        "\n",
        "Done by: Jardenna Mohazzab, Mehdi Oueslati, Venkat Mohit Sornapudi, Lea Tiyavorabun"
      ]
    },
    {
      "cell_type": "markdown",
      "source": [
        "Few components in this assignment have been imported from https://www.tensorflow.org/text/tutorials/transformer tutorial."
      ],
      "metadata": {
        "id": "1HwrvsULBQBL"
      }
    },
    {
      "cell_type": "markdown",
      "metadata": {
        "id": "swymtxpl7W7w"
      },
      "source": [
        "## Setup"
      ]
    },
    {
      "cell_type": "code",
      "execution_count": null,
      "metadata": {
        "id": "XFG0NDRu5mYQ",
        "colab": {
          "base_uri": "https://localhost:8080/"
        },
        "outputId": "ecb9c07d-58ea-40fc-b22a-dcc3987ab2d4"
      },
      "outputs": [
        {
          "output_type": "stream",
          "name": "stdout",
          "text": [
            "Reading package lists... Done\n",
            "Building dependency tree       \n",
            "Reading state information... Done\n",
            "The following package was automatically installed and is no longer required:\n",
            "  libnvidia-common-460\n",
            "Use 'apt autoremove' to remove it.\n",
            "The following packages will be REMOVED:\n",
            "  libcudnn8-dev\n",
            "The following held packages will be changed:\n",
            "  libcudnn8\n",
            "The following packages will be DOWNGRADED:\n",
            "  libcudnn8\n",
            "0 upgraded, 0 newly installed, 1 downgraded, 1 to remove and 10 not upgraded.\n",
            "Need to get 430 MB of archives.\n",
            "After this operation, 1,392 MB disk space will be freed.\n",
            "Get:1 https://developer.download.nvidia.com/compute/cuda/repos/ubuntu1804/x86_64  libcudnn8 8.1.0.77-1+cuda11.2 [430 MB]\n",
            "Fetched 430 MB in 7s (59.6 MB/s)\n",
            "(Reading database ... 123934 files and directories currently installed.)\n",
            "Removing libcudnn8-dev (8.1.1.33-1+cuda11.2) ...\n",
            "update-alternatives: removing manually selected alternative - switching libcudnn to auto mode\n",
            "\u001b[1mdpkg:\u001b[0m \u001b[1;33mwarning:\u001b[0m downgrading libcudnn8 from 8.1.1.33-1+cuda11.2 to 8.1.0.77-1+cuda11.2\n",
            "(Reading database ... 123911 files and directories currently installed.)\n",
            "Preparing to unpack .../libcudnn8_8.1.0.77-1+cuda11.2_amd64.deb ...\n",
            "Unpacking libcudnn8 (8.1.0.77-1+cuda11.2) over (8.1.1.33-1+cuda11.2) ...\n",
            "Setting up libcudnn8 (8.1.0.77-1+cuda11.2) ...\n",
            "\u001b[33mWARNING: Skipping tensorflow-text as it is not installed.\u001b[0m\n",
            "\u001b[K     |████████████████████████████████| 5.9 MB 5.1 MB/s \n",
            "\u001b[K     |████████████████████████████████| 578.0 MB 16 kB/s \n",
            "\u001b[K     |████████████████████████████████| 1.7 MB 49.0 MB/s \n",
            "\u001b[K     |████████████████████████████████| 438 kB 73.4 MB/s \n",
            "\u001b[K     |████████████████████████████████| 5.9 MB 46.4 MB/s \n",
            "\u001b[?25h"
          ]
        }
      ],
      "source": [
        "!apt install --allow-change-held-packages libcudnn8=8.1.0.77-1+cuda11.2\n",
        "!pip uninstall -y -q tensorflow keras tensorflow-estimator tensorflow-text\n",
        "!pip install -q tensorflow_datasets\n",
        "!pip install -q -U tensorflow-text tensorflow"
      ]
    },
    {
      "cell_type": "code",
      "execution_count": null,
      "metadata": {
        "id": "JjJJyJTZYebt"
      },
      "outputs": [],
      "source": [
        "import logging\n",
        "import time\n",
        "\n",
        "import numpy as np\n",
        "import matplotlib.pyplot as plt\n",
        "\n",
        "import tensorflow_datasets as tfds\n",
        "import tensorflow as tf\n",
        "\n",
        "import tensorflow_text"
      ]
    },
    {
      "cell_type": "markdown",
      "metadata": {
        "id": "Xf_WUi2HLhzf"
      },
      "source": [
        "## Data handling"
      ]
    },
    {
      "cell_type": "markdown",
      "metadata": {
        "id": "-cCvXbPkccV1"
      },
      "source": [
        "### Download the dataset"
      ]
    },
    {
      "cell_type": "markdown",
      "metadata": {
        "id": "LTEVgBxklzdq"
      },
      "source": [
        "Loading the [Portuguese-English translation dataset](https://www.tensorflow.org/datasets/catalog/ted_hrlr_translate#ted_hrlr_translatept_to_en)from TED Talks Open Translation Project. This dataset contains approximately 52,000 training, 1,200 validation and 1,800 test examples."
      ]
    },
    {
      "cell_type": "code",
      "execution_count": null,
      "metadata": {
        "id": "8q9t4FmN96eN"
      },
      "outputs": [],
      "source": [
        "examples, metadata = tfds.load('ted_hrlr_translate/pt_to_en',\n",
        "                               with_info=True,\n",
        "                               as_supervised=True)\n",
        "\n",
        "train_examples, val_examples = examples['train'], examples['validation']"
      ]
    },
    {
      "cell_type": "code",
      "execution_count": null,
      "metadata": {
        "id": "CZFAMZJyDrFn",
        "colab": {
          "base_uri": "https://localhost:8080/"
        },
        "outputId": "56eb7db7-7d99-4905-f476-44972aa650e7"
      },
      "outputs": [
        {
          "output_type": "stream",
          "name": "stdout",
          "text": [
            "> Examples in Portuguese:\n",
            "e quando melhoramos a procura , tiramos a única vantagem da impressão , que é a serendipidade .\n",
            "mas e se estes fatores fossem ativos ?\n",
            "mas eles não tinham a curiosidade de me testar .\n",
            "\n",
            "> Examples in English:\n",
            "and when you improve searchability , you actually take away the one advantage of print , which is serendipity .\n",
            "but what if it were active ?\n",
            "but they did n't test for curiosity .\n"
          ]
        }
      ],
      "source": [
        "for pt_examples, en_examples in train_examples.batch(3).take(1):\n",
        "  print('> Examples in Portuguese:')\n",
        "  for pt in pt_examples.numpy():\n",
        "    print(pt.decode('utf-8'))\n",
        "  print()\n",
        "\n",
        "  print('> Examples in English:')\n",
        "  for en in en_examples.numpy():\n",
        "    print(en.decode('utf-8'))"
      ]
    },
    {
      "cell_type": "code",
      "source": [
        "len(examples['train'])"
      ],
      "metadata": {
        "id": "uusZRXnTBZ2n",
        "colab": {
          "base_uri": "https://localhost:8080/"
        },
        "outputId": "beb51166-9917-43ae-e88a-ec5daf0cb146"
      },
      "execution_count": null,
      "outputs": [
        {
          "output_type": "execute_result",
          "data": {
            "text/plain": [
              "51785"
            ]
          },
          "metadata": {},
          "execution_count": 31
        }
      ]
    },
    {
      "cell_type": "markdown",
      "metadata": {
        "id": "eJxTd6aVnZyh"
      },
      "source": [
        "### Set up the tokenizer"
      ]
    },
    {
      "cell_type": "code",
      "execution_count": null,
      "metadata": {
        "id": "QToMl0NanZPr",
        "colab": {
          "base_uri": "https://localhost:8080/",
          "height": 732
        },
        "outputId": "0731f271-a0b3-472a-eb05-e7efc7864063"
      },
      "outputs": [
        {
          "output_type": "execute_result",
          "data": {
            "text/plain": [
              "'./ted_hrlr_translate_pt_en_converter.zip'"
            ],
            "application/vnd.google.colaboratory.intrinsic+json": {
              "type": "string"
            }
          },
          "metadata": {},
          "execution_count": 32
        }
      ],
      "source": [
        "model_name = 'ted_hrlr_translate_pt_en_converter'\n",
        "tf.keras.utils.get_file(\n",
        "    f'{model_name}.zip',\n",
        "    f'https://storage.googleapis.com/download.tensorflow.org/models/{model_name}.zip',\n",
        "    cache_dir='.', cache_subdir='', extract=True\n",
        ")"
      ]
    },
    {
      "cell_type": "code",
      "execution_count": null,
      "metadata": {
        "id": "h5dbGnPXnuI1"
      },
      "outputs": [],
      "source": [
        "tokenizers = tf.saved_model.load(model_name)"
      ]
    },
    {
      "cell_type": "code",
      "execution_count": null,
      "metadata": {
        "id": "s-PCJijfcZ9_",
        "colab": {
          "base_uri": "https://localhost:8080/"
        },
        "outputId": "9829d0dc-0d47-4dea-d8ca-b337a8faa786"
      },
      "outputs": [
        {
          "output_type": "execute_result",
          "data": {
            "text/plain": [
              "['detokenize',\n",
              " 'get_reserved_tokens',\n",
              " 'get_vocab_path',\n",
              " 'get_vocab_size',\n",
              " 'lookup',\n",
              " 'tokenize',\n",
              " 'tokenizer',\n",
              " 'vocab']"
            ]
          },
          "metadata": {},
          "execution_count": 34
        }
      ],
      "source": [
        "[item for item in dir(tokenizers.en) if not item.startswith('_')]"
      ]
    },
    {
      "cell_type": "markdown",
      "metadata": {
        "id": "fUBljDDEFWUC"
      },
      "source": [
        "The `tokenize` method converts a batch of strings to a padded-batch of token IDs. This method splits punctuation, lowercases and unicode-normalizes the input before tokenizing."
      ]
    },
    {
      "cell_type": "code",
      "execution_count": null,
      "metadata": {
        "id": "z_gPC5iwFXfU",
        "colab": {
          "base_uri": "https://localhost:8080/"
        },
        "outputId": "aaeaeb0b-c17e-45fc-a390-8edc2ed05f12"
      },
      "outputs": [
        {
          "output_type": "stream",
          "name": "stdout",
          "text": [
            "> This is a batch of strings:\n",
            "and when you improve searchability , you actually take away the one advantage of print , which is serendipity .\n",
            "but what if it were active ?\n",
            "but they did n't test for curiosity .\n"
          ]
        }
      ],
      "source": [
        "print('> This is a batch of strings:')\n",
        "for en in en_examples.numpy():\n",
        "  print(en.decode('utf-8'))"
      ]
    },
    {
      "cell_type": "code",
      "execution_count": null,
      "metadata": {
        "id": "uSkM7z8JFaVO",
        "colab": {
          "base_uri": "https://localhost:8080/"
        },
        "outputId": "fe0866d6-0ac4-4db5-977c-b7444843a42f"
      },
      "outputs": [
        {
          "output_type": "stream",
          "name": "stdout",
          "text": [
            "> This is a padded-batch of token IDs:\n",
            "[2, 72, 117, 79, 1259, 1491, 2362, 13, 79, 150, 184, 311, 71, 103, 2308, 74, 2679, 13, 148, 80, 55, 4840, 1434, 2423, 540, 15, 3]\n",
            "[2, 87, 90, 107, 76, 129, 1852, 30, 3]\n",
            "[2, 87, 83, 149, 50, 9, 56, 664, 85, 2512, 15, 3]\n"
          ]
        }
      ],
      "source": [
        "encoded = tokenizers.en.tokenize(en_examples)\n",
        "\n",
        "print('> This is a padded-batch of token IDs:')\n",
        "for row in encoded.to_list():\n",
        "  print(row)"
      ]
    },
    {
      "cell_type": "markdown",
      "metadata": {
        "id": "nBkv7XeBFa8_"
      },
      "source": [
        "The `detokenize` method attempts to convert these token IDs back to human-readable text:"
      ]
    },
    {
      "cell_type": "code",
      "execution_count": null,
      "metadata": {
        "id": "-CFS5aAxFdpP",
        "colab": {
          "base_uri": "https://localhost:8080/"
        },
        "outputId": "ee1353c4-00b1-491d-f1eb-44f98e69c559"
      },
      "outputs": [
        {
          "output_type": "stream",
          "name": "stdout",
          "text": [
            "> This is human-readable text:\n",
            "and when you improve searchability , you actually take away the one advantage of print , which is serendipity .\n",
            "but what if it were active ?\n",
            "but they did n ' t test for curiosity .\n"
          ]
        }
      ],
      "source": [
        "round_trip = tokenizers.en.detokenize(encoded)\n",
        "\n",
        "print('> This is human-readable text:')\n",
        "for line in round_trip.numpy():\n",
        "  print(line.decode('utf-8'))"
      ]
    },
    {
      "cell_type": "code",
      "execution_count": null,
      "metadata": {
        "id": "XaCeOnswVAhI",
        "colab": {
          "base_uri": "https://localhost:8080/"
        },
        "outputId": "5d083596-0d7f-4609-e1e3-b72e0be6a1d4"
      },
      "outputs": [
        {
          "output_type": "stream",
          "name": "stdout",
          "text": [
            "> This is the text split into tokens:\n"
          ]
        },
        {
          "output_type": "execute_result",
          "data": {
            "text/plain": [
              "<tf.RaggedTensor [[b'[START]', b'and', b'when', b'you', b'improve', b'search', b'##ability',\n",
              "  b',', b'you', b'actually', b'take', b'away', b'the', b'one', b'advantage',\n",
              "  b'of', b'print', b',', b'which', b'is', b's', b'##ere', b'##nd', b'##ip',\n",
              "  b'##ity', b'.', b'[END]']                                                 ,\n",
              " [b'[START]', b'but', b'what', b'if', b'it', b'were', b'active', b'?',\n",
              "  b'[END]']                                                           ,\n",
              " [b'[START]', b'but', b'they', b'did', b'n', b\"'\", b't', b'test', b'for',\n",
              "  b'curiosity', b'.', b'[END]']                                          ]>"
            ]
          },
          "metadata": {},
          "execution_count": 38
        }
      ],
      "source": [
        "print('> This is the text split into tokens:')\n",
        "tokens = tokenizers.en.lookup(encoded)\n",
        "tokens"
      ]
    },
    {
      "cell_type": "code",
      "execution_count": null,
      "metadata": {
        "id": "KRbke-iaaHFI",
        "colab": {
          "base_uri": "https://localhost:8080/"
        },
        "outputId": "aa778205-1d0d-4ea0-c63b-88b5d68b8f9c"
      },
      "outputs": [
        {
          "output_type": "stream",
          "name": "stdout",
          "text": [
            "..................................................."
          ]
        }
      ],
      "source": [
        "lengths = []\n",
        "\n",
        "for pt_examples, en_examples in train_examples.batch(1024):\n",
        "  pt_tokens = tokenizers.pt.tokenize(pt_examples)\n",
        "  lengths.append(pt_tokens.row_lengths())\n",
        "\n",
        "  en_tokens = tokenizers.en.tokenize(en_examples)\n",
        "  lengths.append(en_tokens.row_lengths())\n",
        "  print('.', end='', flush=True)"
      ]
    },
    {
      "cell_type": "code",
      "execution_count": null,
      "metadata": {
        "id": "9ucA1q3GaK_n",
        "colab": {
          "base_uri": "https://localhost:8080/",
          "height": 54
        },
        "outputId": "1afe2a3d-2a03-4970-cf6b-07b7afb77fc2"
      },
      "outputs": [
        {
          "output_type": "display_data",
          "data": {
            "text/plain": [
              "<Figure size 432x288 with 1 Axes>"
            ],
            "image/png": "[encoded data removed]"
          },
          "metadata": {
            "needs_background": "light"
          }
        }
      ],
      "source": [
        "all_lengths = np.concatenate(lengths)\n",
        "\n",
        "plt.hist(all_lengths, np.linspace(0, 500, 101))\n",
        "plt.ylim(plt.ylim())\n",
        "max_length = max(all_lengths)\n",
        "plt.plot([max_length, max_length], plt.ylim())\n",
        "plt.title(f'Maximum tokens per example: {max_length}');"
      ]
    },
    {
      "cell_type": "markdown",
      "metadata": {
        "id": "-Yb35sTJcZq9"
      },
      "source": [
        "### Set up a data pipeline with `tf.data`"
      ]
    },
    {
      "cell_type": "code",
      "execution_count": null,
      "metadata": {
        "id": "6shgzEck3FiV"
      },
      "outputs": [],
      "source": [
        "MAX_TOKENS=128\n",
        "def prepare_batch(pt, en):\n",
        "    pt = tokenizers.pt.tokenize(pt)      # Output is ragged.\n",
        "    pt = pt[:, :MAX_TOKENS]    # Trim to MAX_TOKENS.\n",
        "    pt = pt.to_tensor()  # Convert to 0-padded dense Tensor\n",
        "\n",
        "    en = tokenizers.en.tokenize(en)\n",
        "    en = en[:, :(MAX_TOKENS+1)]\n",
        "    en_inputs = en[:, :-1].to_tensor()  # Drop the [END] tokens\n",
        "    en_labels = en[:, 1:].to_tensor()   # Drop the [START] tokens\n",
        "\n",
        "    return (pt, en_inputs), en_labels"
      ]
    },
    {
      "cell_type": "code",
      "execution_count": null,
      "metadata": {
        "id": "bcRp7VcQ5m6g"
      },
      "outputs": [],
      "source": [
        "BUFFER_SIZE = 20000\n",
        "BATCH_SIZE = 64"
      ]
    },
    {
      "cell_type": "code",
      "execution_count": null,
      "metadata": {
        "id": "BUN_jLBTwNxk"
      },
      "outputs": [],
      "source": [
        "def make_batches(ds):\n",
        "  return (\n",
        "      ds\n",
        "      .shuffle(BUFFER_SIZE)\n",
        "      .batch(BATCH_SIZE)\n",
        "      .map(prepare_batch, tf.data.AUTOTUNE)\n",
        "      .prefetch(buffer_size=tf.data.AUTOTUNE))"
      ]
    },
    {
      "cell_type": "markdown",
      "metadata": {
        "id": "FX_h3tCnwgR4"
      },
      "source": [
        " </section>"
      ]
    },
    {
      "cell_type": "markdown",
      "metadata": {
        "id": "itSWqk-ivrRg"
      },
      "source": [
        "## Test the Dataset"
      ]
    },
    {
      "cell_type": "code",
      "execution_count": null,
      "metadata": {
        "id": "BSswr5TKvoNM"
      },
      "outputs": [],
      "source": [
        "# Create training and validation set batches.\n",
        "train_batches = make_batches(train_examples)\n",
        "val_batches = make_batches(val_examples)"
      ]
    },
    {
      "cell_type": "code",
      "execution_count": null,
      "metadata": {
        "id": "CAw2XjRwLFWr",
        "colab": {
          "base_uri": "https://localhost:8080/"
        },
        "outputId": "7fb46928-d234-418a-f887-cd2334e8e7d2"
      },
      "outputs": [
        {
          "output_type": "stream",
          "name": "stdout",
          "text": [
            "(64, 65)\n",
            "(64, 83)\n",
            "(64, 83)\n"
          ]
        }
      ],
      "source": [
        "for (pt, en), en_labels in train_batches.take(1):\n",
        "  break\n",
        "\n",
        "print(pt.shape)\n",
        "print(en.shape)\n",
        "print(en_labels.shape)"
      ]
    },
    {
      "cell_type": "markdown",
      "metadata": {
        "id": "Tzo3JKaqx46g"
      },
      "source": [
        "The `en` and `en_labels` are the same, just shifted by 1:"
      ]
    },
    {
      "cell_type": "code",
      "execution_count": null,
      "metadata": {
        "id": "apFeC-WWxzR4",
        "colab": {
          "base_uri": "https://localhost:8080/"
        },
        "outputId": "fed22552-840f-481a-f763-26e92dd288bf"
      },
      "outputs": [
        {
          "output_type": "stream",
          "name": "stdout",
          "text": [
            "tf.Tensor([  2  76  80 715  75  71 143 208  80 170], shape=(10,), dtype=int64)\n",
            "tf.Tensor([ 76  80 715  75  71 143 208  80 170 121], shape=(10,), dtype=int64)\n"
          ]
        }
      ],
      "source": [
        "print(en[0][:10])\n",
        "print(en_labels[0][:10])"
      ]
    },
    {
      "cell_type": "markdown",
      "metadata": {
        "id": "7e7hKcxn6-zd"
      },
      "source": [
        "## Defining the components"
      ]
    },
    {
      "cell_type": "markdown",
      "metadata": {
        "id": "O0R4bYJ0DiFR"
      },
      "source": [
        "<table>\n",
        "<tr>\n",
        "  <th colspan=1>The original Transformer diagram</th>\n",
        "  <th colspan=1>A representation of a 4-layer Transformer</th>\n",
        "</tr>\n",
        "<tr>\n",
        "  <td>\n",
        "   <img width=400 src=\"https://www.tensorflow.org/images/tutorials/transformer/transformer.png\"/>\n",
        "  </td>\n",
        "  <td>\n",
        "   <img width=307 src=\"https://www.tensorflow.org/images/tutorials/transformer/Transformer-4layer-compact.png\"/>\n",
        "  </td>\n",
        "</tr>\n",
        "</table>"
      ]
    },
    {
      "cell_type": "markdown",
      "metadata": {
        "id": "YS75Y-9-lkzn"
      },
      "source": [
        "### The embedding and positional encoding layer"
      ]
    },
    {
      "cell_type": "markdown",
      "metadata": {
        "id": "26l90xiq3Nis"
      },
      "source": [
        "The inputs to both the encoder and decoder use the same embedding and positional encoding logic.\n",
        "\n",
        "<table>\n",
        "<tr>\n",
        "  <th colspan=1>The embedding and positional encoding layer</th>\n",
        "<tr>\n",
        "<tr>\n",
        "  <td>\n",
        "   <img src=\"https://www.tensorflow.org/images/tutorials/transformer/PositionalEmbedding.png\"/>\n",
        "  </td>\n",
        "</tr>\n",
        "</table>"
      ]
    },
    {
      "cell_type": "markdown",
      "metadata": {
        "id": "4gcCNZP7lzdy"
      },
      "source": [
        "The formula for calculating the positional encoding (implemented in Python below) is as follows:\n",
        "\n",
        "$$\\Large{PE_{(pos, 2i)} = \\sin(pos / 10000^{2i / d_{model}})} $$\n",
        "$$\\Large{PE_{(pos, 2i+1)} = \\cos(pos / 10000^{2i / d_{model}})} $$"
      ]
    },
    {
      "cell_type": "code",
      "execution_count": null,
      "metadata": {
        "id": "1Rz82wEs5biZ"
      },
      "outputs": [],
      "source": [
        "def positional_encoding(length, depth):\n",
        "  depth = depth/2\n",
        "\n",
        "  positions = np.arange(length)[:, np.newaxis]     # (seq, 1)\n",
        "  depths = np.arange(depth)[np.newaxis, :]/depth   # (1, depth)\n",
        "\n",
        "  angle_rates = 1 / (10000**depths)         # (1, depth)\n",
        "  angle_rads = positions * angle_rates      # (pos, depth)\n",
        "\n",
        "  pos_encoding = np.concatenate(\n",
        "      [np.sin(angle_rads), np.cos(angle_rads)],\n",
        "      axis=-1)\n",
        "\n",
        "  return tf.cast(pos_encoding, dtype=tf.float32)"
      ]
    },
    {
      "cell_type": "code",
      "execution_count": null,
      "metadata": {
        "id": "AKf4Ky2dhg0L",
        "colab": {
          "base_uri": "https://localhost:8080/",
          "height": 300
        },
        "outputId": "8dc5a8b6-a978-46e1-eb54-b46669691932"
      },
      "outputs": [
        {
          "output_type": "stream",
          "name": "stdout",
          "text": [
            "(2048, 512)\n"
          ]
        },
        {
          "output_type": "display_data",
          "data": {
            "text/plain": [
              "<Figure size 432x288 with 2 Axes>"
            ],
            "image/png": "[encoded data removed]"
          },
          "metadata": {
            "needs_background": "light"
          }
        }
      ],
      "source": [
        "#@title\n",
        "pos_encoding = positional_encoding(length=2048, depth=512)\n",
        "\n",
        "# Check the shape.\n",
        "print(pos_encoding.shape)\n",
        "\n",
        "# Plot the dimensions.\n",
        "plt.pcolormesh(pos_encoding.numpy().T, cmap='RdBu')\n",
        "plt.ylabel('Depth')\n",
        "plt.xlabel('Position')\n",
        "plt.colorbar()\n",
        "plt.show()"
      ]
    },
    {
      "cell_type": "code",
      "execution_count": null,
      "metadata": {
        "id": "CXY-8_uEhcRD",
        "colab": {
          "base_uri": "https://localhost:8080/",
          "height": 286
        },
        "outputId": "7a639ac9-9349-43e1-e803-6236666160f1"
      },
      "outputs": [
        {
          "output_type": "execute_result",
          "data": {
            "text/plain": [
              "(0.0, 1.0)"
            ]
          },
          "metadata": {},
          "execution_count": 49
        },
        {
          "output_type": "display_data",
          "data": {
            "text/plain": [
              "<Figure size 432x288 with 2 Axes>"
            ],
            "image/png": "[encoded data removed]"
          },
          "metadata": {
            "needs_background": "light"
          }
        }
      ],
      "source": [
        "#@title\n",
        "pos_encoding/=tf.norm(pos_encoding, axis=1, keepdims=True)\n",
        "p = pos_encoding[1000]\n",
        "dots = tf.einsum('pd,d -> p', pos_encoding, p)\n",
        "plt.subplot(2,1,1)\n",
        "plt.plot(dots)\n",
        "plt.ylim([0,1])\n",
        "plt.plot([950, 950, float('nan'), 1050, 1050],\n",
        "         [0,1,float('nan'),0,1], color='k', label='Zoom')\n",
        "plt.legend()\n",
        "plt.subplot(2,1,2)\n",
        "plt.plot(dots)\n",
        "plt.xlim([950, 1050])\n",
        "plt.ylim([0,1])\n"
      ]
    },
    {
      "cell_type": "code",
      "execution_count": null,
      "metadata": {
        "id": "838tmM1cm9cB"
      },
      "outputs": [],
      "source": [
        "class PositionalEmbedding(tf.keras.layers.Layer):\n",
        "  def __init__(self, vocab_size, d_model):\n",
        "    super().__init__()\n",
        "    self.d_model = d_model\n",
        "    self.embedding = tf.keras.layers.Embedding(vocab_size, d_model, mask_zero=True)\n",
        "    self.pos_encoding = positional_encoding(length=2048, depth=d_model)\n",
        "\n",
        "  def compute_mask(self, *args, **kwargs):\n",
        "    return self.embedding.compute_mask(*args, **kwargs)\n",
        "\n",
        "  def call(self, x):\n",
        "    length = tf.shape(x)[1]\n",
        "    x = self.embedding(x)\n",
        "    # This factor sets the relative scale of the embedding and positonal_encoding.\n",
        "    x *= tf.math.sqrt(tf.cast(self.d_model, tf.float32))\n",
        "    x = x + self.pos_encoding[tf.newaxis, :length, :]\n",
        "    return x\n"
      ]
    },
    {
      "cell_type": "code",
      "execution_count": null,
      "metadata": {
        "id": "tfz-EaCEDfUJ"
      },
      "outputs": [],
      "source": [
        "embed_pt = PositionalEmbedding(vocab_size=tokenizers.pt.get_vocab_size(), d_model=512)\n",
        "embed_en = PositionalEmbedding(vocab_size=tokenizers.en.get_vocab_size(), d_model=512)\n",
        "\n",
        "pt_emb = embed_pt(pt)\n",
        "en_emb = embed_en(en)"
      ]
    },
    {
      "cell_type": "code",
      "execution_count": null,
      "metadata": {
        "id": "3fJZ_ArLELhJ"
      },
      "outputs": [],
      "source": [
        "en_emb._keras_mask"
      ]
    },
    {
      "cell_type": "markdown",
      "metadata": {
        "id": "mE9cEBWCMKOP"
      },
      "source": [
        "### Adding and normalizing\n",
        "\n",
        "<table>\n",
        "<tr>\n",
        "  <th colspan=2>Add and normalize</th>\n",
        "<tr>\n",
        "<tr>\n",
        "  <td>\n",
        "   <img src=\"https://www.tensorflow.org/images/tutorials/transformer/Add+Norm.png\"/>\n",
        "  </td>\n",
        "</tr>\n",
        "</table>"
      ]
    },
    {
      "cell_type": "markdown",
      "metadata": {
        "id": "vJAJ2_VlPXrZ"
      },
      "source": [
        "### The base attention layer"
      ]
    },
    {
      "cell_type": "markdown",
      "metadata": {
        "id": "1tMGOGki35KI"
      },
      "source": [
        "Attention layers are used throughout the model. These are all identical except for how the attention is configured. Each one contains a `layers.MultiHeadAttention`, a `layers.LayerNormalization` and a `layers.Add`.\n",
        "\n",
        "<table>\n",
        "<tr>\n",
        "  <th colspan=2>The base attention layer</th>\n",
        "<tr>\n",
        "<tr>\n",
        "  <td>\n",
        "   <img src=\"https://www.tensorflow.org/images/tutorials/transformer/BaseAttention.png\"/>\n",
        "  </td>\n",
        "</tr>\n",
        "</table>"
      ]
    },
    {
      "cell_type": "code",
      "execution_count": null,
      "metadata": {
        "id": "5VLa5QcdPpv5"
      },
      "outputs": [],
      "source": [
        "class BaseAttention(tf.keras.layers.Layer):\n",
        "  def __init__(self, **kwargs):\n",
        "    super().__init__()\n",
        "    self.mha = tf.keras.layers.MultiHeadAttention(**kwargs)\n",
        "    self.layernorm = tf.keras.layers.LayerNormalization()\n",
        "    self.add = tf.keras.layers.Add()"
      ]
    },
    {
      "cell_type": "markdown",
      "metadata": {
        "id": "B7QcPJvmv6ix"
      },
      "source": [
        "### The cross attention layer"
      ]
    },
    {
      "cell_type": "markdown",
      "metadata": {
        "id": "o8VJZqds37QC"
      },
      "source": [
        "\n",
        "<table>\n",
        "<tr>\n",
        "  <th colspan=1>The cross attention layer</th>\n",
        "<tr>\n",
        "<tr>\n",
        "  <td>\n",
        "   <img src=\"https://www.tensorflow.org/images/tutorials/transformer/CrossAttention.png\"/>\n",
        "  </td>\n",
        "</tr>\n",
        "</table>"
      ]
    },
    {
      "cell_type": "code",
      "execution_count": null,
      "metadata": {
        "id": "kfHVbJUWv8qp"
      },
      "outputs": [],
      "source": [
        "class CrossAttention(BaseAttention):\n",
        "  def call(self, x, context):\n",
        "    attn_output, attn_scores = self.mha(\n",
        "        query=x,\n",
        "        key=context,\n",
        "        value=context,\n",
        "        return_attention_scores=True)\n",
        "\n",
        "    # Cache the attention scores for plotting later.\n",
        "    self.last_attn_scores = attn_scores\n",
        "\n",
        "    x = self.add([x, attn_output])\n",
        "    x = self.layernorm(x)\n",
        "\n",
        "    return x"
      ]
    },
    {
      "cell_type": "code",
      "execution_count": null,
      "metadata": {
        "id": "Qw1FJV5qRk79",
        "colab": {
          "base_uri": "https://localhost:8080/"
        },
        "outputId": "7f01c403-7e23-4eb5-96c1-9698b44db963"
      },
      "outputs": [
        {
          "output_type": "stream",
          "name": "stdout",
          "text": [
            "(64, 65, 512)\n",
            "(64, 83, 512)\n",
            "(64, 83, 512)\n"
          ]
        }
      ],
      "source": [
        "sample_ca = CrossAttention(num_heads=2, key_dim=512)\n",
        "\n",
        "print(pt_emb.shape)\n",
        "print(en_emb.shape)\n",
        "print(sample_ca(en_emb, pt_emb).shape)"
      ]
    },
    {
      "cell_type": "markdown",
      "metadata": {
        "id": "J6qrQxSpv34R"
      },
      "source": [
        "### The global self attention layer"
      ]
    },
    {
      "cell_type": "markdown",
      "metadata": {
        "id": "YlYBQX3E388Y"
      },
      "source": [
        "<table>\n",
        "<tr>\n",
        "  <th colspan=1>The global self attention layer</th>\n",
        "<tr>\n",
        "<tr>\n",
        "  <td>\n",
        "   <img src=\"https://www.tensorflow.org/images/tutorials/transformer/SelfAttention.png\"/>\n",
        "  </td>\n",
        "</tr>\n",
        "</table>"
      ]
    },
    {
      "cell_type": "code",
      "execution_count": null,
      "metadata": {
        "id": "RNqoTpn1wB3i"
      },
      "outputs": [],
      "source": [
        "class GlobalSelfAttention(BaseAttention):\n",
        "  def call(self, x):\n",
        "    attn_output = self.mha(\n",
        "        query=x,\n",
        "        value=x,\n",
        "        key=x)\n",
        "    x = self.add([x, attn_output])\n",
        "    x = self.layernorm(x)\n",
        "    return x"
      ]
    },
    {
      "cell_type": "code",
      "execution_count": null,
      "metadata": {
        "id": "jPn2D07-Jcmj",
        "colab": {
          "base_uri": "https://localhost:8080/"
        },
        "outputId": "4965b889-9636-4afa-f75c-3812f4a58d4f"
      },
      "outputs": [
        {
          "output_type": "stream",
          "name": "stdout",
          "text": [
            "(64, 65, 512)\n",
            "(64, 65, 512)\n"
          ]
        }
      ],
      "source": [
        "sample_gsa = GlobalSelfAttention(num_heads=2, key_dim=512)\n",
        "\n",
        "print(pt_emb.shape)\n",
        "print(sample_gsa(pt_emb).shape)"
      ]
    },
    {
      "cell_type": "markdown",
      "metadata": {
        "id": "Yq4NtLymD99-"
      },
      "source": [
        "### The causal self attention layer"
      ]
    },
    {
      "cell_type": "markdown",
      "metadata": {
        "id": "3KMEDiP63-hQ"
      },
      "source": [
        "<table>\n",
        "<tr>\n",
        "  <th colspan=1>The causal self attention layer</th>\n",
        "<tr>\n",
        "<tr>\n",
        "  <td>\n",
        "   <img src=\"https://www.tensorflow.org/images/tutorials/transformer/CausalSelfAttention.png\"/>\n",
        "  </td>\n",
        "</tr>\n",
        "</table>"
      ]
    },
    {
      "cell_type": "code",
      "execution_count": null,
      "metadata": {
        "id": "4MMQ-AfKD99_"
      },
      "outputs": [],
      "source": [
        "class CausalSelfAttention(BaseAttention):\n",
        "  def call(self, x):\n",
        "    attn_output = self.mha(\n",
        "        query=x,\n",
        "        value=x,\n",
        "        key=x,\n",
        "        use_causal_mask = True)\n",
        "    x = self.add([x, attn_output])\n",
        "    x = self.layernorm(x)\n",
        "    return x"
      ]
    },
    {
      "cell_type": "code",
      "execution_count": null,
      "metadata": {
        "id": "x4dQuzvlD99_",
        "colab": {
          "base_uri": "https://localhost:8080/"
        },
        "outputId": "11df75fd-8d50-4bfa-ad5f-fab50aebd939"
      },
      "outputs": [
        {
          "output_type": "stream",
          "name": "stdout",
          "text": [
            "(64, 83, 512)\n",
            "(64, 83, 512)\n"
          ]
        }
      ],
      "source": [
        "sample_csa = CausalSelfAttention(num_heads=2, key_dim=512)\n",
        "\n",
        "print(en_emb.shape)\n",
        "print(sample_csa(en_emb).shape)"
      ]
    },
    {
      "cell_type": "code",
      "execution_count": null,
      "metadata": {
        "id": "bwKlheQ-WVxl",
        "colab": {
          "base_uri": "https://localhost:8080/"
        },
        "outputId": "45ce4d79-39cc-484e-c8d5-db2c18b72209"
      },
      "outputs": [
        {
          "output_type": "execute_result",
          "data": {
            "text/plain": [
              "5.9604645e-07"
            ]
          },
          "metadata": {},
          "execution_count": 59
        }
      ],
      "source": [
        "out1 = sample_csa(embed_en(en[:, :3]))\n",
        "out2 = sample_csa(embed_en(en))[:, :3]\n",
        "\n",
        "tf.reduce_max(abs(out1 - out2)).numpy()"
      ]
    },
    {
      "cell_type": "markdown",
      "metadata": {
        "id": "nLjScSWQv9M5"
      },
      "source": [
        "### The feed forward network"
      ]
    },
    {
      "cell_type": "markdown",
      "metadata": {
        "id": "bDHMWoZ94AUU"
      },
      "source": [
        "<table>\n",
        "<tr>\n",
        "  <th colspan=1>The feed forward network</th>\n",
        "<tr>\n",
        "<tr>\n",
        "  <td>\n",
        "   <img src=\"https://www.tensorflow.org/images/tutorials/transformer/FeedForward.png\"/>\n",
        "  </td>\n",
        "</tr>\n",
        "</table>"
      ]
    },
    {
      "cell_type": "code",
      "execution_count": null,
      "metadata": {
        "id": "rAYLeu0uwXYK"
      },
      "outputs": [],
      "source": [
        "class FeedForward(tf.keras.layers.Layer):\n",
        "  def __init__(self, d_model, dff, dropout_rate=0.1):\n",
        "    super().__init__()\n",
        "    self.seq = tf.keras.Sequential([\n",
        "      tf.keras.layers.Dense(dff, activation='relu'),\n",
        "      tf.keras.layers.Dense(d_model),\n",
        "      tf.keras.layers.Dropout(dropout_rate)\n",
        "    ])\n",
        "    self.add = tf.keras.layers.Add()\n",
        "    self.layer_norm = tf.keras.layers.LayerNormalization()\n",
        "\n",
        "  def call(self, x):\n",
        "    x = self.add([x, self.seq(x)])\n",
        "    x = self.layer_norm(x)\n",
        "    return x\n"
      ]
    },
    {
      "cell_type": "code",
      "execution_count": null,
      "metadata": {
        "id": "r-Y8Yqi1_hUt",
        "colab": {
          "base_uri": "https://localhost:8080/"
        },
        "outputId": "e2cde756-0ac4-4365-e647-65583cd0819f"
      },
      "outputs": [
        {
          "output_type": "stream",
          "name": "stdout",
          "text": [
            "(64, 83, 512)\n",
            "(64, 83, 512)\n"
          ]
        }
      ],
      "source": [
        "sample_ffn = FeedForward(512, 2048)\n",
        "\n",
        "print(en_emb.shape)\n",
        "print(sample_ffn(en_emb).shape)"
      ]
    },
    {
      "cell_type": "markdown",
      "metadata": {
        "id": "QFv-FNYUmvpn"
      },
      "source": [
        "### The encoder layer"
      ]
    },
    {
      "cell_type": "markdown",
      "metadata": {
        "id": "RgPaE3f44Cgh"
      },
      "source": [
        "<table>\n",
        "<tr>\n",
        "  <th colspan=1>The encoder layer</th>\n",
        "<tr>\n",
        "<tr>\n",
        "  <td>\n",
        "   <img src=\"https://www.tensorflow.org/images/tutorials/transformer/EncoderLayer.png\"/>\n",
        "  </td>\n",
        "</tr>\n",
        "</table>"
      ]
    },
    {
      "cell_type": "code",
      "execution_count": null,
      "metadata": {
        "id": "ncyS-Ms3i2x_"
      },
      "outputs": [],
      "source": [
        "class EncoderLayer(tf.keras.layers.Layer):\n",
        "  def __init__(self,*, d_model, num_heads, dff, dropout_rate=0.1):\n",
        "    super().__init__()\n",
        "\n",
        "    self.self_attention = GlobalSelfAttention(\n",
        "        num_heads=num_heads,\n",
        "        key_dim=d_model,\n",
        "        dropout=dropout_rate)\n",
        "\n",
        "    self.ffn = FeedForward(d_model, dff)\n",
        "\n",
        "  def call(self, x):\n",
        "    x = self.self_attention(x)\n",
        "    x = self.ffn(x)\n",
        "    return x"
      ]
    },
    {
      "cell_type": "code",
      "execution_count": null,
      "metadata": {
        "id": "AzZRXdO0mI48",
        "colab": {
          "base_uri": "https://localhost:8080/"
        },
        "outputId": "3186eaad-8f9f-4dfc-f6d4-94beb48506c1"
      },
      "outputs": [
        {
          "output_type": "stream",
          "name": "stdout",
          "text": [
            "(64, 65, 512)\n",
            "(64, 65, 512)\n"
          ]
        }
      ],
      "source": [
        "sample_encoder_layer = EncoderLayer(d_model=512, num_heads=8, dff=2048)\n",
        "\n",
        "print(pt_emb.shape)\n",
        "print(sample_encoder_layer(pt_emb).shape)"
      ]
    },
    {
      "cell_type": "markdown",
      "metadata": {
        "id": "SE1H51Ajm0q1"
      },
      "source": [
        "### The encoder"
      ]
    },
    {
      "cell_type": "markdown",
      "metadata": {
        "id": "dXI2B-Ad4ETO"
      },
      "source": [
        "<table>\n",
        "<tr>\n",
        "  <th colspan=1>The encoder</th>\n",
        "<tr>\n",
        "<tr>\n",
        "  <td>\n",
        "   <img src=\"https://www.tensorflow.org/images/tutorials/transformer/Encoder.png\"/>\n",
        "  </td>\n",
        "</tr>\n",
        "</table>"
      ]
    },
    {
      "cell_type": "code",
      "execution_count": null,
      "metadata": {
        "id": "jpEox7gJ8FCI"
      },
      "outputs": [],
      "source": [
        "class Encoder(tf.keras.layers.Layer):\n",
        "  def __init__(self, *, num_layers, d_model, num_heads,\n",
        "               dff, vocab_size, dropout_rate=0.1):\n",
        "    super().__init__()\n",
        "\n",
        "    self.d_model = d_model\n",
        "    self.num_layers = num_layers\n",
        "\n",
        "    self.pos_embedding = PositionalEmbedding(\n",
        "        vocab_size=vocab_size, d_model=d_model)\n",
        "\n",
        "    self.enc_layers = [\n",
        "        EncoderLayer(d_model=d_model,\n",
        "                     num_heads=num_heads,\n",
        "                     dff=dff,\n",
        "                     dropout_rate=dropout_rate)\n",
        "        for _ in range(num_layers)]\n",
        "    self.dropout = tf.keras.layers.Dropout(dropout_rate)\n",
        "\n",
        "  def call(self, x):\n",
        "    # `x` is token-IDs shape: (batch, seq_len)\n",
        "    x = self.pos_embedding(x)  # Shape `(batch_size, seq_len, d_model)`.\n",
        "\n",
        "    # Add dropout.\n",
        "    x = self.dropout(x)\n",
        "\n",
        "    for i in range(self.num_layers):\n",
        "      x = self.enc_layers[i](x)\n",
        "\n",
        "    return x  # Shape `(batch_size, seq_len, d_model)`."
      ]
    },
    {
      "cell_type": "code",
      "execution_count": null,
      "metadata": {
        "id": "SDPXTvYgJH8s",
        "colab": {
          "base_uri": "https://localhost:8080/"
        },
        "outputId": "049d77b7-78fe-407c-a682-b9fc7d8d6450"
      },
      "outputs": [
        {
          "output_type": "stream",
          "name": "stdout",
          "text": [
            "(64, 65)\n",
            "(64, 65, 512)\n"
          ]
        }
      ],
      "source": [
        "# Instantiate the encoder.\n",
        "sample_encoder = Encoder(num_layers=4,\n",
        "                         d_model=512,\n",
        "                         num_heads=8,\n",
        "                         dff=2048,\n",
        "                         vocab_size=8500)\n",
        "\n",
        "sample_encoder_output = sample_encoder(pt, training=False)\n",
        "\n",
        "# Print the shape.\n",
        "print(pt.shape)\n",
        "print(sample_encoder_output.shape)  # Shape `(batch_size, input_seq_len, d_model)`."
      ]
    },
    {
      "cell_type": "markdown",
      "metadata": {
        "id": "6LO_48Owmx_o"
      },
      "source": [
        "### The decoder layer"
      ]
    },
    {
      "cell_type": "markdown",
      "metadata": {
        "id": "1ZYER7rC4FmI"
      },
      "source": [
        "<table>\n",
        "<tr>\n",
        "  <th colspan=1>The decoder layer</th>\n",
        "<tr>\n",
        "<tr>\n",
        "  <td>\n",
        "   <img src=\"https://www.tensorflow.org/images/tutorials/transformer/DecoderLayer.png\"/>\n",
        "  </td>\n",
        "</tr>\n",
        "</table>"
      ]
    },
    {
      "cell_type": "code",
      "execution_count": null,
      "metadata": {
        "id": "9SoX0-vd1hue"
      },
      "outputs": [],
      "source": [
        "class DecoderLayer(tf.keras.layers.Layer):\n",
        "  def __init__(self,\n",
        "               *,\n",
        "               d_model,\n",
        "               num_heads,\n",
        "               dff,\n",
        "               dropout_rate=0.1):\n",
        "    super(DecoderLayer, self).__init__()\n",
        "\n",
        "    self.causal_self_attention = CausalSelfAttention(\n",
        "        num_heads=num_heads,\n",
        "        key_dim=d_model,\n",
        "        dropout=dropout_rate)\n",
        "\n",
        "    self.cross_attention = CrossAttention(\n",
        "        num_heads=num_heads,\n",
        "        key_dim=d_model,\n",
        "        dropout=dropout_rate)\n",
        "\n",
        "    self.ffn = FeedForward(d_model, dff)\n",
        "\n",
        "  def call(self, x, context):\n",
        "    x = self.causal_self_attention(x=x)\n",
        "    x = self.cross_attention(x=x, context=context)\n",
        "\n",
        "    # Cache the last attention scores for plotting later\n",
        "    self.last_attn_scores = self.cross_attention.last_attn_scores\n",
        "\n",
        "    x = self.ffn(x)  # Shape `(batch_size, seq_len, d_model)`.\n",
        "    return x"
      ]
    },
    {
      "cell_type": "code",
      "execution_count": null,
      "metadata": {
        "id": "Ne2Bqx8k71l0",
        "colab": {
          "base_uri": "https://localhost:8080/"
        },
        "outputId": "3ef644ab-aa0e-4810-d49c-17cb301d4354"
      },
      "outputs": [
        {
          "output_type": "stream",
          "name": "stdout",
          "text": [
            "(64, 83, 512)\n",
            "(64, 65, 512)\n",
            "(64, 83, 512)\n"
          ]
        }
      ],
      "source": [
        "sample_decoder_layer = DecoderLayer(d_model=512, num_heads=8, dff=2048)\n",
        "\n",
        "sample_decoder_layer_output = sample_decoder_layer(\n",
        "    x=en_emb, context=pt_emb)\n",
        "\n",
        "print(en_emb.shape)\n",
        "print(pt_emb.shape)\n",
        "print(sample_decoder_layer_output.shape)  # `(batch_size, seq_len, d_model)`"
      ]
    },
    {
      "cell_type": "markdown",
      "metadata": {
        "id": "p-uO6ls8m2O5"
      },
      "source": [
        "### The decoder"
      ]
    },
    {
      "cell_type": "markdown",
      "metadata": {
        "id": "ADGss2nT4Gt-"
      },
      "source": [
        "<table>\n",
        "<tr>\n",
        "  <th colspan=1>The embedding and positional encoding layer</th>\n",
        "<tr>\n",
        "<tr>\n",
        "  <td>\n",
        "   <img src=\"https://www.tensorflow.org/images/tutorials/transformer/Decoder.png\"/>\n",
        "  </td>\n",
        "</tr>\n",
        "</table>"
      ]
    },
    {
      "cell_type": "code",
      "execution_count": null,
      "metadata": {
        "id": "d5_d5-PLQXwY"
      },
      "outputs": [],
      "source": [
        "class Decoder(tf.keras.layers.Layer):\n",
        "  def __init__(self, *, num_layers, d_model, num_heads, dff, vocab_size,\n",
        "               dropout_rate=0.1):\n",
        "    super(Decoder, self).__init__()\n",
        "\n",
        "    self.d_model = d_model\n",
        "    self.num_layers = num_layers\n",
        "\n",
        "    self.pos_embedding = PositionalEmbedding(vocab_size=vocab_size,\n",
        "                                             d_model=d_model)\n",
        "    self.dropout = tf.keras.layers.Dropout(dropout_rate)\n",
        "    self.dec_layers = [\n",
        "        DecoderLayer(d_model=d_model, num_heads=num_heads,\n",
        "                     dff=dff, dropout_rate=dropout_rate)\n",
        "        for _ in range(num_layers)]\n",
        "\n",
        "    self.last_attn_scores = None\n",
        "\n",
        "  def call(self, x, context):\n",
        "    # `x` is token-IDs shape (batch, target_seq_len)\n",
        "    x = self.pos_embedding(x)  # (batch_size, target_seq_len, d_model)\n",
        "\n",
        "    x = self.dropout(x)\n",
        "\n",
        "    for i in range(self.num_layers):\n",
        "      x  = self.dec_layers[i](x, context)\n",
        "\n",
        "    self.last_attn_scores = self.dec_layers[-1].last_attn_scores\n",
        "\n",
        "    # The shape of x is (batch_size, target_seq_len, d_model).\n",
        "    return x"
      ]
    },
    {
      "cell_type": "code",
      "execution_count": null,
      "metadata": {
        "id": "xyHdG_jWPgKu",
        "colab": {
          "base_uri": "https://localhost:8080/"
        },
        "outputId": "92fd3942-dc15-42d5-e5d9-ebd17bdfc2eb"
      },
      "outputs": [
        {
          "output_type": "stream",
          "name": "stdout",
          "text": [
            "(64, 83)\n",
            "(64, 65, 512)\n",
            "(64, 83, 512)\n"
          ]
        }
      ],
      "source": [
        "# Instantiate the decoder.\n",
        "sample_decoder = Decoder(num_layers=4,\n",
        "                         d_model=512,\n",
        "                         num_heads=8,\n",
        "                         dff=2048,\n",
        "                         vocab_size=8000)\n",
        "\n",
        "output = sample_decoder(\n",
        "    x=en,\n",
        "    context=pt_emb)\n",
        "\n",
        "# Print the shapes.\n",
        "print(en.shape)\n",
        "print(pt_emb.shape)\n",
        "print(output.shape)"
      ]
    },
    {
      "cell_type": "code",
      "execution_count": null,
      "metadata": {
        "id": "ioJ4XJAUAReI",
        "colab": {
          "base_uri": "https://localhost:8080/"
        },
        "outputId": "992f7fe2-0b8a-4a41-b3f3-62b78c2eef6f"
      },
      "outputs": [
        {
          "output_type": "execute_result",
          "data": {
            "text/plain": [
              "TensorShape([64, 8, 83, 65])"
            ]
          },
          "metadata": {},
          "execution_count": 70
        }
      ],
      "source": [
        "sample_decoder.last_attn_scores.shape  # (batch, heads, target_seq, input_seq)"
      ]
    },
    {
      "cell_type": "markdown",
      "metadata": {
        "id": "y54xnJnuYgJ7"
      },
      "source": [
        "## The Transformer"
      ]
    },
    {
      "cell_type": "markdown",
      "metadata": {
        "id": "46nL2X_84Iud"
      },
      "source": [
        "<table>\n",
        "<tr>\n",
        "  <th colspan=1>The transformer</th>\n",
        "<tr>\n",
        "<tr>\n",
        "  <td>\n",
        "   <img src=\"https://www.tensorflow.org/images/tutorials/transformer/transformer.png\"/>\n",
        "  </td>\n",
        "</tr>\n",
        "</table>"
      ]
    },
    {
      "cell_type": "code",
      "execution_count": null,
      "metadata": {
        "id": "PED3bIpOYkBu"
      },
      "outputs": [],
      "source": [
        "class Transformer(tf.keras.Model):\n",
        "  def __init__(self, *, num_layers, d_model, num_heads, dff,\n",
        "               input_vocab_size, target_vocab_size, dropout_rate=0.1):\n",
        "    super().__init__()\n",
        "    self.encoder = Encoder(num_layers=num_layers, d_model=d_model,\n",
        "                           num_heads=num_heads, dff=dff,\n",
        "                           vocab_size=input_vocab_size,\n",
        "                           dropout_rate=dropout_rate)\n",
        "\n",
        "    self.decoder = Decoder(num_layers=num_layers, d_model=d_model,\n",
        "                           num_heads=num_heads, dff=dff,\n",
        "                           vocab_size=target_vocab_size,\n",
        "                           dropout_rate=dropout_rate)\n",
        "\n",
        "    self.final_layer = tf.keras.layers.Dense(target_vocab_size)\n",
        "\n",
        "  def call(self, inputs):\n",
        "\n",
        "    context, x  = inputs\n",
        "\n",
        "    context = self.encoder(context)  # (batch_size, context_len, d_model)\n",
        "\n",
        "    x = self.decoder(x, context)  # (batch_size, target_len, d_model)\n",
        "\n",
        "    # Final linear layer output.\n",
        "    logits = self.final_layer(x)  # (batch_size, target_len, target_vocab_size)\n",
        "\n",
        "    try:\n",
        "      # Drop the keras mask, so it doesn't scale the losses/metrics.\n",
        "      # b/250038731\n",
        "      del logits._keras_mask\n",
        "    except AttributeError:\n",
        "      pass\n",
        "\n",
        "    # Return the final output and the attention weights.\n",
        "    return logits"
      ]
    },
    {
      "cell_type": "markdown",
      "metadata": {
        "id": "wsINyf1VEQLC"
      },
      "source": [
        "### Hyperparameters"
      ]
    },
    {
      "cell_type": "code",
      "execution_count": null,
      "metadata": {
        "id": "mzyo6KDfVyhl"
      },
      "outputs": [],
      "source": [
        "num_layers = 4\n",
        "d_model = 128\n",
        "dff = 512\n",
        "num_heads = 8\n",
        "dropout_rate = 0.1"
      ]
    },
    {
      "cell_type": "markdown",
      "metadata": {
        "id": "g08YOE-zHRqY"
      },
      "source": [
        "### Trying it out"
      ]
    },
    {
      "cell_type": "code",
      "execution_count": null,
      "metadata": {
        "id": "UiysUa--4tOU"
      },
      "outputs": [],
      "source": [
        "transformer = Transformer(\n",
        "    num_layers=num_layers,\n",
        "    d_model=d_model,\n",
        "    num_heads=num_heads,\n",
        "    dff=dff,\n",
        "    input_vocab_size=tokenizers.pt.get_vocab_size().numpy(),\n",
        "    target_vocab_size=tokenizers.en.get_vocab_size().numpy(),\n",
        "    dropout_rate=dropout_rate)"
      ]
    },
    {
      "cell_type": "markdown",
      "metadata": {
        "id": "Qbw3CYn2tQQx"
      },
      "source": [
        "Testing it:"
      ]
    },
    {
      "cell_type": "code",
      "execution_count": null,
      "metadata": {
        "id": "c8eO85hpFHmE",
        "colab": {
          "base_uri": "https://localhost:8080/"
        },
        "outputId": "1df4f297-35e1-4433-809e-dd73dfc8db09"
      },
      "outputs": [
        {
          "output_type": "stream",
          "name": "stdout",
          "text": [
            "(64, 91)\n",
            "(64, 93)\n",
            "(64, 91, 7010)\n"
          ]
        }
      ],
      "source": [
        "output = transformer((pt, en))\n",
        "\n",
        "print(en.shape)\n",
        "print(pt.shape)\n",
        "print(output.shape)"
      ]
    },
    {
      "cell_type": "code",
      "execution_count": null,
      "metadata": {
        "id": "olTLrK8pAcLd",
        "colab": {
          "base_uri": "https://localhost:8080/"
        },
        "outputId": "9ff9396a-b480-4e5a-eb56-5f2f0d93f93c"
      },
      "outputs": [
        {
          "output_type": "stream",
          "name": "stdout",
          "text": [
            "(64, 8, 91, 93)\n"
          ]
        }
      ],
      "source": [
        "attn_scores = transformer.decoder.dec_layers[-1].last_attn_scores\n",
        "print(attn_scores.shape)  # (batch, heads, target_seq, input_seq)"
      ]
    },
    {
      "cell_type": "code",
      "execution_count": null,
      "metadata": {
        "id": "IsUPhlfEtOjn",
        "colab": {
          "base_uri": "https://localhost:8080/"
        },
        "outputId": "82482d2d-b143-49b8-b0db-ecc979ab8260"
      },
      "outputs": [
        {
          "output_type": "stream",
          "name": "stdout",
          "text": [
            "Model: \"transformer\"\n",
            "_________________________________________________________________\n",
            " Layer (type)                Output Shape              Param #   \n",
            "=================================================================\n",
            " encoder_1 (Encoder)         multiple                  3632768   \n",
            "                                                                 \n",
            " decoder_1 (Decoder)         multiple                  5647104   \n",
            "                                                                 \n",
            " dense_38 (Dense)            multiple                  904290    \n",
            "                                                                 \n",
            "=================================================================\n",
            "Total params: 10,184,162\n",
            "Trainable params: 10,184,162\n",
            "Non-trainable params: 0\n",
            "_________________________________________________________________\n"
          ]
        }
      ],
      "source": [
        "transformer.summary()"
      ]
    },
    {
      "cell_type": "markdown",
      "metadata": {
        "id": "EfoBfC2oQtEy"
      },
      "source": [
        "## Training"
      ]
    },
    {
      "cell_type": "markdown",
      "metadata": {
        "id": "xYEGhEOtzn5W"
      },
      "source": [
        "### Set up the optimizer"
      ]
    },
    {
      "cell_type": "code",
      "execution_count": null,
      "metadata": {
        "id": "iYQdOO1axwEI"
      },
      "outputs": [],
      "source": [
        "class CustomSchedule(tf.keras.optimizers.schedules.LearningRateSchedule):\n",
        "  def __init__(self, d_model, warmup_steps=4000):\n",
        "    super().__init__()\n",
        "\n",
        "    self.d_model = d_model\n",
        "    self.d_model = tf.cast(self.d_model, tf.float32)\n",
        "\n",
        "    self.warmup_steps = warmup_steps\n",
        "\n",
        "  def __call__(self, step):\n",
        "    step = tf.cast(step, dtype=tf.float32)\n",
        "    arg1 = tf.math.rsqrt(step)\n",
        "    arg2 = step * (self.warmup_steps ** -1.5)\n",
        "\n",
        "    return tf.math.rsqrt(self.d_model) * tf.math.minimum(arg1, arg2)"
      ]
    },
    {
      "cell_type": "code",
      "execution_count": null,
      "metadata": {
        "id": "7r4scdulztRx"
      },
      "outputs": [],
      "source": [
        "learning_rate = CustomSchedule(d_model)\n",
        "\n",
        "optimizer = tf.keras.optimizers.Adam(learning_rate, beta_1=0.9, beta_2=0.98,\n",
        "                                     epsilon=1e-9)"
      ]
    },
    {
      "cell_type": "markdown",
      "metadata": {
        "id": "fTb2S4RnQ8DU"
      },
      "source": [
        "Testing the custom learning rate scheduler:"
      ]
    },
    {
      "cell_type": "code",
      "execution_count": null,
      "metadata": {
        "id": "Xij3MwYVRAAS",
        "colab": {
          "base_uri": "https://localhost:8080/",
          "height": 296
        },
        "outputId": "c104abb2-1a2e-48e4-8dd4-4437bb89e3f2"
      },
      "outputs": [
        {
          "output_type": "execute_result",
          "data": {
            "text/plain": [
              "Text(0.5, 0, 'Train Step')"
            ]
          },
          "metadata": {},
          "execution_count": 113
        },
        {
          "output_type": "display_data",
          "data": {
            "text/plain": [
              "<Figure size 432x288 with 1 Axes>"
            ],
            "image/png": "[encoded data removed]"
          },
          "metadata": {
            "needs_background": "light"
          }
        }
      ],
      "source": [
        "plt.plot(learning_rate(tf.range(40000, dtype=tf.float32)))\n",
        "plt.ylabel('Learning Rate')\n",
        "plt.xlabel('Train Step')"
      ]
    },
    {
      "cell_type": "markdown",
      "metadata": {
        "id": "YgkDE7hzo8r5"
      },
      "source": [
        "### Set up the loss and metrics"
      ]
    },
    {
      "cell_type": "code",
      "execution_count": null,
      "metadata": {
        "id": "67oqVHiT0Eiu"
      },
      "outputs": [],
      "source": [
        "def masked_loss(label, pred):\n",
        "  mask = label != 0\n",
        "  loss_object = tf.keras.losses.SparseCategoricalCrossentropy(\n",
        "    from_logits=True, reduction='none')\n",
        "  loss = loss_object(label, pred)\n",
        "\n",
        "  mask = tf.cast(mask, dtype=loss.dtype)\n",
        "  loss *= mask\n",
        "\n",
        "  loss = tf.reduce_sum(loss)/tf.reduce_sum(mask)\n",
        "  return loss\n",
        "\n",
        "\n",
        "def masked_accuracy(label, pred):\n",
        "  pred = tf.argmax(pred, axis=2)\n",
        "  label = tf.cast(label, pred.dtype)\n",
        "  match = label == pred\n",
        "\n",
        "  mask = label != 0\n",
        "\n",
        "  match = match & mask\n",
        "\n",
        "  match = tf.cast(match, dtype=tf.float32)\n",
        "  mask = tf.cast(mask, dtype=tf.float32)\n",
        "  return tf.reduce_sum(match)/tf.reduce_sum(mask)"
      ]
    },
    {
      "cell_type": "markdown",
      "metadata": {
        "id": "xYEasEOsdn5W"
      },
      "source": [
        "### Train the model"
      ]
    },
    {
      "cell_type": "code",
      "execution_count": null,
      "metadata": {
        "id": "Una1v0hDlIsT"
      },
      "outputs": [],
      "source": [
        "transformer.compile(\n",
        "    loss=masked_loss,\n",
        "    optimizer=optimizer,\n",
        "    metrics=[masked_accuracy])"
      ]
    },
    {
      "cell_type": "code",
      "execution_count": null,
      "metadata": {
        "id": "Jg35qKvVlctp",
        "colab": {
          "base_uri": "https://localhost:8080/"
        },
        "outputId": "cede4ba4-beb0-4ca4-fe38-20148f3053cc"
      },
      "outputs": [
        {
          "output_type": "stream",
          "name": "stdout",
          "text": [
            "Epoch 1/20\n",
            "810/810 [==============================] - 204s 238ms/step - loss: 6.5841 - masked_accuracy: 0.1456 - val_loss: 4.9946 - val_masked_accuracy: 0.2563\n",
            "Epoch 2/20\n",
            "810/810 [==============================] - 192s 237ms/step - loss: 4.5522 - masked_accuracy: 0.3001 - val_loss: 4.0370 - val_masked_accuracy: 0.3619\n",
            "Epoch 3/20\n",
            "810/810 [==============================] - 190s 234ms/step - loss: 3.8073 - masked_accuracy: 0.3818 - val_loss: 3.3997 - val_masked_accuracy: 0.4408\n",
            "Epoch 4/20\n",
            "810/810 [==============================] - 192s 237ms/step - loss: 3.2709 - masked_accuracy: 0.4412 - val_loss: 2.9859 - val_masked_accuracy: 0.4879\n",
            "Epoch 5/20\n",
            "810/810 [==============================] - 191s 236ms/step - loss: 2.8714 - masked_accuracy: 0.4861 - val_loss: 2.7239 - val_masked_accuracy: 0.5233\n",
            "Epoch 6/20\n",
            "810/810 [==============================] - 191s 235ms/step - loss: 2.5621 - masked_accuracy: 0.5228 - val_loss: 2.4704 - val_masked_accuracy: 0.5520\n",
            "Epoch 7/20\n",
            "810/810 [==============================] - 191s 235ms/step - loss: 2.2933 - masked_accuracy: 0.5585 - val_loss: 2.3292 - val_masked_accuracy: 0.5742\n",
            "Epoch 8/20\n",
            "810/810 [==============================] - 193s 237ms/step - loss: 2.1029 - masked_accuracy: 0.5840 - val_loss: 2.2282 - val_masked_accuracy: 0.5906\n",
            "Epoch 9/20\n",
            "810/810 [==============================] - 193s 238ms/step - loss: 1.9562 - masked_accuracy: 0.6045 - val_loss: 2.1617 - val_masked_accuracy: 0.5980\n",
            "Epoch 10/20\n",
            "810/810 [==============================] - 190s 234ms/step - loss: 1.8406 - masked_accuracy: 0.6211 - val_loss: 2.1054 - val_masked_accuracy: 0.6089\n",
            "Epoch 11/20\n",
            "810/810 [==============================] - 193s 238ms/step - loss: 1.7420 - masked_accuracy: 0.6353 - val_loss: 2.0859 - val_masked_accuracy: 0.6133\n",
            "Epoch 12/20\n",
            "810/810 [==============================] - 191s 236ms/step - loss: 1.6585 - masked_accuracy: 0.6476 - val_loss: 2.0686 - val_masked_accuracy: 0.6147\n",
            "Epoch 13/20\n",
            "810/810 [==============================] - 192s 236ms/step - loss: 1.6018 - masked_accuracy: 0.6567 - val_loss: 2.0941 - val_masked_accuracy: 0.6140\n",
            "Epoch 14/20\n",
            "810/810 [==============================] - 192s 237ms/step - loss: 1.5272 - masked_accuracy: 0.6675 - val_loss: 2.0536 - val_masked_accuracy: 0.6216\n",
            "Epoch 15/20\n",
            "810/810 [==============================] - 191s 235ms/step - loss: 1.4710 - masked_accuracy: 0.6767 - val_loss: 2.0320 - val_masked_accuracy: 0.6239\n",
            "Epoch 16/20\n",
            "810/810 [==============================] - 193s 238ms/step - loss: 1.4187 - masked_accuracy: 0.6849 - val_loss: 2.0584 - val_masked_accuracy: 0.6239\n",
            "Epoch 17/20\n",
            "810/810 [==============================] - 192s 237ms/step - loss: 1.3731 - masked_accuracy: 0.6919 - val_loss: 2.0284 - val_masked_accuracy: 0.6293\n",
            "Epoch 18/20\n",
            "810/810 [==============================] - 193s 237ms/step - loss: 1.3330 - masked_accuracy: 0.6980 - val_loss: 2.0449 - val_masked_accuracy: 0.6286\n",
            "Epoch 19/20\n",
            "810/810 [==============================] - 191s 236ms/step - loss: 1.2949 - masked_accuracy: 0.7047 - val_loss: 2.0538 - val_masked_accuracy: 0.6287\n",
            "Epoch 20/20\n",
            "810/810 [==============================] - 191s 235ms/step - loss: 1.2598 - masked_accuracy: 0.7105 - val_loss: 2.0677 - val_masked_accuracy: 0.6291\n"
          ]
        },
        {
          "output_type": "execute_result",
          "data": {
            "text/plain": [
              "<keras.callbacks.History at 0x7fde43c11810>"
            ]
          },
          "metadata": {},
          "execution_count": 58
        }
      ],
      "source": [
        "transformer.fit(train_batches,\n",
        "                epochs=20,\n",
        "                validation_data=val_batches)"
      ]
    },
    {
      "cell_type": "markdown",
      "metadata": {
        "id": "cxKpqCbzSW6z"
      },
      "source": [
        "## Run inference"
      ]
    },
    {
      "cell_type": "code",
      "execution_count": null,
      "metadata": {
        "id": "eY_uXsOhSmbb"
      },
      "outputs": [],
      "source": [
        "class Translator(tf.Module):\n",
        "  def __init__(self, tokenizers, transformer):\n",
        "    self.tokenizers = tokenizers\n",
        "    self.transformer = transformer\n",
        "\n",
        "  def __call__(self, sentence, max_length=MAX_TOKENS):\n",
        "    # The input sentence is Portuguese, hence adding the `[START]` and `[END]` tokens.\n",
        "    assert isinstance(sentence, tf.Tensor)\n",
        "    if len(sentence.shape) == 0:\n",
        "      sentence = sentence[tf.newaxis]\n",
        "\n",
        "    sentence = self.tokenizers.pt.tokenize(sentence).to_tensor()\n",
        "\n",
        "    encoder_input = sentence\n",
        "\n",
        "    # As the output language is English, initialize the output with the\n",
        "    # English `[START]` token.\n",
        "    start_end = self.tokenizers.en.tokenize([''])[0]\n",
        "    start = start_end[0][tf.newaxis]\n",
        "    end = start_end[1][tf.newaxis]\n",
        "\n",
        "    # `tf.TensorArray` is required here (instead of a Python list), so that the\n",
        "    # dynamic-loop can be traced by `tf.function`.\n",
        "    output_array = tf.TensorArray(dtype=tf.int64, size=0, dynamic_size=True)\n",
        "    output_array = output_array.write(0, start)\n",
        "\n",
        "    for i in tf.range(max_length):\n",
        "      output = tf.transpose(output_array.stack())\n",
        "      predictions = self.transformer([encoder_input, output], training=False)\n",
        "\n",
        "      # Select the last token from the `seq_len` dimension.\n",
        "      predictions = predictions[:, -1:, :]  # Shape `(batch_size, 1, vocab_size)`.\n",
        "\n",
        "      predicted_id = tf.argmax(predictions, axis=-1)\n",
        "\n",
        "      # Concatenate the `predicted_id` to the output which is given to the\n",
        "      # decoder as its input.\n",
        "      output_array = output_array.write(i+1, predicted_id[0])\n",
        "\n",
        "      if predicted_id == end:\n",
        "        break\n",
        "\n",
        "    output = tf.transpose(output_array.stack())\n",
        "    # The output shape is `(1, tokens)`.\n",
        "    text = tokenizers.en.detokenize(output)[0]  # Shape: `()`.\n",
        "\n",
        "    tokens = tokenizers.en.lookup(output)[0]\n",
        "\n",
        "    # `tf.function` prevents us from using the attention_weights that were\n",
        "    # calculated on the last iteration of the loop.\n",
        "    # So, recalculate them outside the loop.\n",
        "    self.transformer([encoder_input, output[:,:-1]], training=False)\n",
        "    attention_weights = self.transformer.decoder.last_attn_scores\n",
        "\n",
        "    return text, tokens, attention_weights"
      ]
    },
    {
      "cell_type": "code",
      "source": [
        "transformer = Transformer()\n",
        "translator = Translator(tokenizers, transformer)"
      ],
      "metadata": {
        "id": "jXa93aorATYn"
      },
      "execution_count": null,
      "outputs": []
    },
    {
      "cell_type": "code",
      "execution_count": null,
      "metadata": {
        "id": "QfHSRdejTFsC"
      },
      "outputs": [],
      "source": [
        "def print_translation(sentence, tokens, ground_truth):\n",
        "  print(f'{\"Input:\":15s}: {sentence}')\n",
        "  print(f'{\"Prediction\":15s}: {tokens.numpy().decode(\"utf-8\")}')\n",
        "  print(f'{\"Ground truth\":15s}: {ground_truth}')"
      ]
    },
    {
      "cell_type": "markdown",
      "metadata": {
        "id": "buUeDo58TIoD"
      },
      "source": [
        "Example 1:"
      ]
    },
    {
      "cell_type": "code",
      "execution_count": null,
      "metadata": {
        "id": "o9CEm4cuTGtw",
        "colab": {
          "base_uri": "https://localhost:8080/"
        },
        "outputId": "d48a9104-c617-4123-bfd3-d3e9f827794f"
      },
      "outputs": [
        {
          "output_type": "stream",
          "name": "stdout",
          "text": [
            "Input:         : este é um problema que temos que resolver.\n",
            "Prediction     : this is a problem that we have to solve .\n",
            "Ground truth   : this is a problem we have to solve .\n"
          ]
        }
      ],
      "source": [
        "sentence = 'este é um problema que temos que resolver.'\n",
        "ground_truth = 'this is a problem we have to solve .'\n",
        "\n",
        "translated_text, translated_tokens, attention_weights = translator(\n",
        "    tf.constant(sentence))\n",
        "print_translation(sentence, translated_text, ground_truth)"
      ]
    },
    {
      "cell_type": "markdown",
      "metadata": {
        "id": "sfJrFBZ6TJxc"
      },
      "source": [
        "Example 2:"
      ]
    },
    {
      "cell_type": "code",
      "execution_count": null,
      "metadata": {
        "id": "elmz_Ly7THuJ",
        "colab": {
          "base_uri": "https://localhost:8080/"
        },
        "outputId": "c928bac3-605f-4d18-e4a0-ee1ad6ffd7c9"
      },
      "outputs": [
        {
          "output_type": "stream",
          "name": "stdout",
          "text": [
            "Input:         : os meus vizinhos ouviram sobre esta ideia.\n",
            "Prediction     : my neighbors heard about this idea .\n",
            "Ground truth   : and my neighboring homes heard about this idea .\n"
          ]
        }
      ],
      "source": [
        "sentence = 'os meus vizinhos ouviram sobre esta ideia.'\n",
        "ground_truth = 'and my neighboring homes heard about this idea .'\n",
        "\n",
        "translated_text, translated_tokens, attention_weights = translator(\n",
        "    tf.constant(sentence))\n",
        "print_translation(sentence, translated_text, ground_truth)"
      ]
    },
    {
      "cell_type": "markdown",
      "metadata": {
        "id": "EY7NfEjrTOCr"
      },
      "source": [
        "Example 3:"
      ]
    },
    {
      "cell_type": "code",
      "execution_count": null,
      "metadata": {
        "id": "bmmtPo3vTOwj",
        "colab": {
          "base_uri": "https://localhost:8080/"
        },
        "outputId": "b46b0370-350b-4b75-98dc-1c7eeb2ac210"
      },
      "outputs": [
        {
          "output_type": "stream",
          "name": "stdout",
          "text": [
            "Input:         : vou então muito rapidamente partilhar convosco algumas histórias de algumas coisas mágicas que aconteceram.\n",
            "Prediction     : so i ' m going to quickly share with you some stories of magical things that happened .\n",
            "Ground truth   : so i'll just share with you some stories very quickly of some magical things that have happened.\n"
          ]
        }
      ],
      "source": [
        "sentence = 'vou então muito rapidamente partilhar convosco algumas histórias de algumas coisas mágicas que aconteceram.'\n",
        "ground_truth = \"so i'll just share with you some stories very quickly of some magical things that have happened.\"\n",
        "\n",
        "translated_text, translated_tokens, attention_weights = translator(\n",
        "    tf.constant(sentence))\n",
        "print_translation(sentence, translated_text, ground_truth)"
      ]
    },
    {
      "cell_type": "markdown",
      "metadata": {
        "id": "aB_03k0kTQLb"
      },
      "source": [
        "## Create attention plots"
      ]
    },
    {
      "cell_type": "code",
      "execution_count": null,
      "metadata": {
        "id": "V3m2wcNLTU8K",
        "colab": {
          "base_uri": "https://localhost:8080/"
        },
        "outputId": "af5d2761-f6ec-43f2-afae-6e52b361cd48"
      },
      "outputs": [
        {
          "output_type": "stream",
          "name": "stdout",
          "text": [
            "Input:         : este é o primeiro livro que eu fiz.\n",
            "Prediction     : this is the first book that i did .\n",
            "Ground truth   : this is the first book i've ever done.\n"
          ]
        }
      ],
      "source": [
        "sentence = 'este é o primeiro livro que eu fiz.'\n",
        "ground_truth = \"this is the first book i've ever done.\"\n",
        "\n",
        "translated_text, translated_tokens, attention_weights = translator(\n",
        "    tf.constant(sentence))\n",
        "print_translation(sentence, translated_text, ground_truth)"
      ]
    },
    {
      "cell_type": "code",
      "execution_count": null,
      "metadata": {
        "id": "gKlxYO0JTXzD"
      },
      "outputs": [],
      "source": [
        "def plot_attention_head(in_tokens, translated_tokens, attention):\n",
        "  # The model didn't generate `<START>` in the output. Skip it.\n",
        "  translated_tokens = translated_tokens[1:]\n",
        "\n",
        "  ax = plt.gca()\n",
        "  ax.matshow(attention)\n",
        "  ax.set_xticks(range(len(in_tokens)))\n",
        "  ax.set_yticks(range(len(translated_tokens)))\n",
        "\n",
        "  labels = [label.decode('utf-8') for label in in_tokens.numpy()]\n",
        "  ax.set_xticklabels(\n",
        "      labels, rotation=90)\n",
        "\n",
        "  labels = [label.decode('utf-8') for label in translated_tokens.numpy()]\n",
        "  ax.set_yticklabels(labels)"
      ]
    },
    {
      "cell_type": "code",
      "execution_count": null,
      "metadata": {
        "id": "yI4YWU2uXDeW",
        "colab": {
          "base_uri": "https://localhost:8080/"
        },
        "outputId": "7ab8d982-804b-4d39-fb88-116453a48bf1"
      },
      "outputs": [
        {
          "output_type": "execute_result",
          "data": {
            "text/plain": [
              "TensorShape([10, 11])"
            ]
          },
          "metadata": {},
          "execution_count": 67
        }
      ],
      "source": [
        "head = 0\n",
        "# Shape: `(batch=1, num_heads, seq_len_q, seq_len_k)`.\n",
        "attention_heads = tf.squeeze(attention_weights, 0)\n",
        "attention = attention_heads[head]\n",
        "attention.shape"
      ]
    },
    {
      "cell_type": "markdown",
      "metadata": {
        "id": "facNouzOXMSu"
      },
      "source": [
        "These are the input (Portuguese) tokens:"
      ]
    },
    {
      "cell_type": "code",
      "execution_count": null,
      "metadata": {
        "id": "SMEpyioWTmSN",
        "colab": {
          "base_uri": "https://localhost:8080/"
        },
        "outputId": "4054bdbd-c155-4098-914a-1891ebb3a749"
      },
      "outputs": [
        {
          "output_type": "execute_result",
          "data": {
            "text/plain": [
              "<tf.Tensor: shape=(11,), dtype=string, numpy=\n",
              "array([b'[START]', b'este', b'e', b'o', b'primeiro', b'livro', b'que',\n",
              "       b'eu', b'fiz', b'.', b'[END]'], dtype=object)>"
            ]
          },
          "metadata": {},
          "execution_count": 68
        }
      ],
      "source": [
        "in_tokens = tf.convert_to_tensor([sentence])\n",
        "in_tokens = tokenizers.pt.tokenize(in_tokens).to_tensor()\n",
        "in_tokens = tokenizers.pt.lookup(in_tokens)[0]\n",
        "in_tokens"
      ]
    },
    {
      "cell_type": "markdown",
      "metadata": {
        "id": "JLg9HTKCXPKz"
      },
      "source": [
        "And these are the output (English translation) tokens:"
      ]
    },
    {
      "cell_type": "code",
      "execution_count": null,
      "metadata": {
        "id": "GzvIo5uYTnHG",
        "colab": {
          "base_uri": "https://localhost:8080/"
        },
        "outputId": "a967325b-80ea-4c4a-da0c-a45fa966305f"
      },
      "outputs": [
        {
          "output_type": "execute_result",
          "data": {
            "text/plain": [
              "<tf.Tensor: shape=(11,), dtype=string, numpy=\n",
              "array([b'[START]', b'this', b'is', b'the', b'first', b'book', b'that',\n",
              "       b'i', b'did', b'.', b'[END]'], dtype=object)>"
            ]
          },
          "metadata": {},
          "execution_count": 69
        }
      ],
      "source": [
        "translated_tokens"
      ]
    },
    {
      "cell_type": "code",
      "execution_count": null,
      "metadata": {
        "id": "lrNh47D1ToBD",
        "colab": {
          "base_uri": "https://localhost:8080/",
          "height": 54
        },
        "outputId": "5578c198-0655-4d97-f855-afc569306da1"
      },
      "outputs": [
        {
          "output_type": "display_data",
          "data": {
            "text/plain": [
              "<Figure size 432x288 with 1 Axes>"
            ],
            "image/png": "[encoded data removed]"
          },
          "metadata": {
            "needs_background": "light"
          }
        }
      ],
      "source": [
        "plot_attention_head(in_tokens, translated_tokens, attention)"
      ]
    },
    {
      "cell_type": "code",
      "execution_count": null,
      "metadata": {
        "id": "iMZr-rI_TrGh"
      },
      "outputs": [],
      "source": [
        "def plot_attention_weights(sentence, translated_tokens, attention_heads):\n",
        "  in_tokens = tf.convert_to_tensor([sentence])\n",
        "  in_tokens = tokenizers.pt.tokenize(in_tokens).to_tensor()\n",
        "  in_tokens = tokenizers.pt.lookup(in_tokens)[0]\n",
        "\n",
        "  fig = plt.figure(figsize=(16, 8))\n",
        "\n",
        "  for h, head in enumerate(attention_heads):\n",
        "    ax = fig.add_subplot(2, 4, h+1)\n",
        "\n",
        "    plot_attention_head(in_tokens, translated_tokens, head)\n",
        "\n",
        "    ax.set_xlabel(f'Head {h+1}')\n",
        "\n",
        "  plt.tight_layout()\n",
        "  plt.show()"
      ]
    },
    {
      "cell_type": "code",
      "execution_count": null,
      "metadata": {
        "id": "lBMujUb1Tr4C",
        "colab": {
          "base_uri": "https://localhost:8080/",
          "height": 54
        },
        "outputId": "8aa1a3d4-2275-44f8-e4dd-e85ee69cf162"
      },
      "outputs": [
        {
          "output_type": "display_data",
          "data": {
            "text/plain": [
              "<Figure size 1152x576 with 8 Axes>"
            ],
            "image/png": "[encoded data removed]"
          },
          "metadata": {
            "needs_background": "light"
          }
        }
      ],
      "source": [
        "plot_attention_weights(sentence,\n",
        "                       translated_tokens,\n",
        "                       attention_weights[0])"
      ]
    },
    {
      "cell_type": "code",
      "execution_count": null,
      "metadata": {
        "id": "w0-5gjfWT0CS",
        "colab": {
          "base_uri": "https://localhost:8080/",
          "height": 106
        },
        "outputId": "a67d925b-4558-45da-82e0-a508d245c322"
      },
      "outputs": [
        {
          "output_type": "stream",
          "name": "stdout",
          "text": [
            "Input:         : Eu li sobre triceratops na enciclopédia.\n",
            "Prediction     : i read about trivasplass in encyclopedia .\n",
            "Ground truth   : I read about triceratops in the encyclopedia.\n"
          ]
        },
        {
          "output_type": "display_data",
          "data": {
            "text/plain": [
              "<Figure size 1152x576 with 8 Axes>"
            ],
            "image/png": "[encoded data removed]"
          },
          "metadata": {
            "needs_background": "light"
          }
        }
      ],
      "source": [
        "sentence = 'Eu li sobre triceratops na enciclopédia.'\n",
        "ground_truth = 'I read about triceratops in the encyclopedia.'\n",
        "\n",
        "translated_text, translated_tokens, attention_weights = translator(\n",
        "    tf.constant(sentence))\n",
        "print_translation(sentence, translated_text, ground_truth)\n",
        "\n",
        "plot_attention_weights(sentence, translated_tokens, attention_weights[0])"
      ]
    },
    {
      "cell_type": "markdown",
      "metadata": {
        "id": "9zz4uIDbT1OU"
      },
      "source": [
        "## Export the model"
      ]
    },
    {
      "cell_type": "code",
      "execution_count": null,
      "metadata": {
        "id": "NZhv5h4AT_n5"
      },
      "outputs": [],
      "source": [
        "class ExportTranslator(tf.Module):\n",
        "  def __init__(self, translator):\n",
        "    self.translator = translator\n",
        "\n",
        "  @tf.function(input_signature=[tf.TensorSpec(shape=[], dtype=tf.string)])\n",
        "  def __call__(self, sentence):\n",
        "    (result,\n",
        "     tokens,\n",
        "     attention_weights) = self.translator(sentence, max_length=MAX_TOKENS)\n",
        "\n",
        "    return result"
      ]
    },
    {
      "cell_type": "code",
      "execution_count": null,
      "metadata": {
        "id": "wm1_eRPvUCUm"
      },
      "outputs": [],
      "source": [
        "export_translator = ExportTranslator(translator)"
      ]
    },
    {
      "cell_type": "code",
      "execution_count": null,
      "metadata": {
        "id": "GITRCiAYUE5w",
        "colab": {
          "base_uri": "https://localhost:8080/"
        },
        "outputId": "a826a54d-1a89-4edf-8bb7-d12cb35bbb81"
      },
      "outputs": [
        {
          "output_type": "execute_result",
          "data": {
            "text/plain": [
              "b'this is the first book that i did .'"
            ]
          },
          "metadata": {},
          "execution_count": 76
        }
      ],
      "source": [
        "export_translator('este é o primeiro livro que eu fiz.').numpy()"
      ]
    },
    {
      "cell_type": "code",
      "execution_count": null,
      "metadata": {
        "id": "_v--e1XmUFw3",
        "colab": {
          "base_uri": "https://localhost:8080/"
        },
        "outputId": "d7f9b40c-7216-45c8-af78-99a5c84869f2"
      },
      "outputs": [
        {
          "output_type": "stream",
          "name": "stderr",
          "text": [
            "WARNING:absl:Found untraced functions such as positional_embedding_4_layer_call_fn, positional_embedding_4_layer_call_and_return_conditional_losses, dropout_35_layer_call_fn, dropout_35_layer_call_and_return_conditional_losses, positional_embedding_5_layer_call_fn while saving (showing 5 of 316). These functions will not be directly callable after loading.\n"
          ]
        }
      ],
      "source": [
        "tf.saved_model.save(export_translator, export_dir='export_translator')"
      ]
    },
    {
      "cell_type": "code",
      "execution_count": null,
      "metadata": {
        "id": "5KJSQEzlUGo-"
      },
      "outputs": [],
      "source": [
        "reloaded = tf.saved_model.load('export_translator')"
      ]
    },
    {
      "cell_type": "code",
      "execution_count": null,
      "metadata": {
        "id": "lIVpKWBNUHhr",
        "colab": {
          "base_uri": "https://localhost:8080/"
        },
        "outputId": "2751feb0-50bc-46e8-d676-8bb84f28198e"
      },
      "outputs": [
        {
          "output_type": "execute_result",
          "data": {
            "text/plain": [
              "b'this is the first book that i did .'"
            ]
          },
          "metadata": {},
          "execution_count": 79
        }
      ],
      "source": [
        "reloaded('este é o primeiro livro que eu fiz.').numpy()"
      ]
    },
    {
      "cell_type": "markdown",
      "source": [
        "#saving the model to gdrive"
      ],
      "metadata": {
        "id": "fq2oSMBnahnN"
      }
    },
    {
      "cell_type": "code",
      "source": [
        "from google.colab import drive\n",
        "drive.mount('/gdrive')"
      ],
      "metadata": {
        "id": "TM3ZdaEnahW0",
        "colab": {
          "base_uri": "https://localhost:8080/"
        },
        "outputId": "7c14ba0c-69fd-4c07-815b-6a120a2acdf9"
      },
      "execution_count": null,
      "outputs": [
        {
          "output_type": "stream",
          "name": "stdout",
          "text": [
            "Mounted at /gdrive\n"
          ]
        }
      ]
    },
    {
      "cell_type": "code",
      "source": [
        "import shutil\n",
        "shutil.copytree('/content/export_translator','/gdrive/MyDrive/export_translator4')"
      ],
      "metadata": {
        "id": "Nbn3gDT_azs4",
        "colab": {
          "base_uri": "https://localhost:8080/",
          "height": 35
        },
        "outputId": "1e9a1334-98e1-4c0f-eff9-c63c71081d7d"
      },
      "execution_count": null,
      "outputs": [
        {
          "output_type": "execute_result",
          "data": {
            "text/plain": [
              "'/gdrive/MyDrive/export_translator4'"
            ],
            "application/vnd.google.colaboratory.intrinsic+json": {
              "type": "string"
            }
          },
          "metadata": {},
          "execution_count": 82
        }
      ]
    },
    {
      "cell_type": "code",
      "source": [
        "reloaded = tf.saved_model.load('/gdrive/MyDrive/export_translator')"
      ],
      "metadata": {
        "id": "IWRQnmO6fDlz"
      },
      "execution_count": null,
      "outputs": []
    },
    {
      "cell_type": "code",
      "source": [
        "reloaded('este é o primeiro livro que eu fiz.').numpy()"
      ],
      "metadata": {
        "id": "xT-Hr8KzfLcu",
        "colab": {
          "base_uri": "https://localhost:8080/"
        },
        "outputId": "82f5b5c4-7fc3-46cf-f951-03c01ca616ea"
      },
      "execution_count": null,
      "outputs": [
        {
          "output_type": "execute_result",
          "data": {
            "text/plain": [
              "b'this is the first book i did .'"
            ]
          },
          "metadata": {},
          "execution_count": 84
        }
      ]
    },
    {
      "cell_type": "markdown",
      "source": [
        "# computing Bleu score of base model on european portuguese"
      ],
      "metadata": {
        "id": "yUQgI8L1_1MV"
      }
    },
    {
      "cell_type": "code",
      "source": [
        "import pandas as pd # data processing, CSV file I/O (e.g. pd.read_csv)"
      ],
      "metadata": {
        "id": "Ej0KAmpR_3Pl"
      },
      "execution_count": null,
      "outputs": []
    },
    {
      "cell_type": "code",
      "source": [
        "TSV_PATH = \"/gdrive/MyDrive/port_en.tsv\""
      ],
      "metadata": {
        "id": "xco-cTp3_91s"
      },
      "execution_count": null,
      "outputs": []
    },
    {
      "cell_type": "code",
      "source": [
        "data = pd.read_csv(TSV_PATH, names=[\"pt_id\", \"pt_sentence\", \"en_id\", \"en_sentence\"], sep='\\t')\n",
        "data"
      ],
      "metadata": {
        "id": "nyJNEGjx__w9",
        "colab": {
          "base_uri": "https://localhost:8080/",
          "height": 424
        },
        "outputId": "09487513-c01b-45d4-91cf-715e87b3d4ed"
      },
      "execution_count": null,
      "outputs": [
        {
          "output_type": "execute_result",
          "data": {
            "text/plain": [
              "           pt_id                           pt_sentence       en_id  \\\n",
              "0         146680    Uma menina chorando abriu a porta.    267881.0   \n",
              "1         180624            Vamos tentar alguma coisa!      1276.0   \n",
              "2         182184                    Preciso ir dormir.      1277.0   \n",
              "3         182184                    Preciso ir dormir.   2047094.0   \n",
              "4         182185            O sinal '&' significa 'e'.     74007.0   \n",
              "...          ...                                   ...         ...   \n",
              "268434   6167545  Qual é o mais velho dos teus irmãos?  11171473.0   \n",
              "268435   4753788                         Que haja paz!  11171472.0   \n",
              "268436  11171761  Estamos do lado de fora de sua casa.  11171746.0   \n",
              "268437  11171821             Gostou dos nossos móveis?  11171807.0   \n",
              "268438  11171822           Gostaram dos nossos móveis?  11171807.0   \n",
              "\n",
              "                                  en_sentence  \n",
              "0              A crying girl opened the door.  \n",
              "1                        Let's try something.  \n",
              "2                      I have to go to sleep.  \n",
              "3                      I need to go to sleep.  \n",
              "4              The sign '&' stands for 'and'.  \n",
              "...                                       ...  \n",
              "268434  Which of your brothers is the eldest?  \n",
              "268435                    May there be peace!  \n",
              "268436             We are outside your house.  \n",
              "268437             Do you like our furniture?  \n",
              "268438             Do you like our furniture?  \n",
              "\n",
              "[268439 rows x 4 columns]"
            ],
            "text/html": [
              "\n",
              "  <div id=\"df-628bbfc0-b604-43a3-99db-2ca9ae9cd461\">\n",
              "    <div class=\"colab-df-container\">\n",
              "      <div>\n",
              "<style scoped>\n",
              "    .dataframe tbody tr th:only-of-type {\n",
              "        vertical-align: middle;\n",
              "    }\n",
              "\n",
              "    .dataframe tbody tr th {\n",
              "        vertical-align: top;\n",
              "    }\n",
              "\n",
              "    .dataframe thead th {\n",
              "        text-align: right;\n",
              "    }\n",
              "</style>\n",
              "<table border=\"1\" class=\"dataframe\">\n",
              "  <thead>\n",
              "    <tr style=\"text-align: right;\">\n",
              "      <th></th>\n",
              "      <th>pt_id</th>\n",
              "      <th>pt_sentence</th>\n",
              "      <th>en_id</th>\n",
              "      <th>en_sentence</th>\n",
              "    </tr>\n",
              "  </thead>\n",
              "  <tbody>\n",
              "    <tr>\n",
              "      <th>0</th>\n",
              "      <td>146680</td>\n",
              "      <td>Uma menina chorando abriu a porta.</td>\n",
              "      <td>267881.0</td>\n",
              "      <td>A crying girl opened the door.</td>\n",
              "    </tr>\n",
              "    <tr>\n",
              "      <th>1</th>\n",
              "      <td>180624</td>\n",
              "      <td>Vamos tentar alguma coisa!</td>\n",
              "      <td>1276.0</td>\n",
              "      <td>Let's try something.</td>\n",
              "    </tr>\n",
              "    <tr>\n",
              "      <th>2</th>\n",
              "      <td>182184</td>\n",
              "      <td>Preciso ir dormir.</td>\n",
              "      <td>1277.0</td>\n",
              "      <td>I have to go to sleep.</td>\n",
              "    </tr>\n",
              "    <tr>\n",
              "      <th>3</th>\n",
              "      <td>182184</td>\n",
              "      <td>Preciso ir dormir.</td>\n",
              "      <td>2047094.0</td>\n",
              "      <td>I need to go to sleep.</td>\n",
              "    </tr>\n",
              "    <tr>\n",
              "      <th>4</th>\n",
              "      <td>182185</td>\n",
              "      <td>O sinal '&amp;' significa 'e'.</td>\n",
              "      <td>74007.0</td>\n",
              "      <td>The sign '&amp;' stands for 'and'.</td>\n",
              "    </tr>\n",
              "    <tr>\n",
              "      <th>...</th>\n",
              "      <td>...</td>\n",
              "      <td>...</td>\n",
              "      <td>...</td>\n",
              "      <td>...</td>\n",
              "    </tr>\n",
              "    <tr>\n",
              "      <th>268434</th>\n",
              "      <td>6167545</td>\n",
              "      <td>Qual é o mais velho dos teus irmãos?</td>\n",
              "      <td>11171473.0</td>\n",
              "      <td>Which of your brothers is the eldest?</td>\n",
              "    </tr>\n",
              "    <tr>\n",
              "      <th>268435</th>\n",
              "      <td>4753788</td>\n",
              "      <td>Que haja paz!</td>\n",
              "      <td>11171472.0</td>\n",
              "      <td>May there be peace!</td>\n",
              "    </tr>\n",
              "    <tr>\n",
              "      <th>268436</th>\n",
              "      <td>11171761</td>\n",
              "      <td>Estamos do lado de fora de sua casa.</td>\n",
              "      <td>11171746.0</td>\n",
              "      <td>We are outside your house.</td>\n",
              "    </tr>\n",
              "    <tr>\n",
              "      <th>268437</th>\n",
              "      <td>11171821</td>\n",
              "      <td>Gostou dos nossos móveis?</td>\n",
              "      <td>11171807.0</td>\n",
              "      <td>Do you like our furniture?</td>\n",
              "    </tr>\n",
              "    <tr>\n",
              "      <th>268438</th>\n",
              "      <td>11171822</td>\n",
              "      <td>Gostaram dos nossos móveis?</td>\n",
              "      <td>11171807.0</td>\n",
              "      <td>Do you like our furniture?</td>\n",
              "    </tr>\n",
              "  </tbody>\n",
              "</table>\n",
              "<p>268439 rows × 4 columns</p>\n",
              "</div>\n",
              "      <button class=\"colab-df-convert\" onclick=\"convertToInteractive('df-628bbfc0-b604-43a3-99db-2ca9ae9cd461')\"\n",
              "              title=\"Convert this dataframe to an interactive table.\"\n",
              "              style=\"display:none;\">\n",
              "        \n",
              "  <svg xmlns=\"http://www.w3.org/2000/svg\" height=\"24px\"viewBox=\"0 0 24 24\"\n",
              "       width=\"24px\">\n",
              "    <path d=\"M0 0h24v24H0V0z\" fill=\"none\"/>\n",
              "    <path d=\"M18.56 5.44l.94 2.06.94-2.06 2.06-.94-2.06-.94-.94-2.06-.94 2.06-2.06.94zm-11 1L8.5 8.5l.94-2.06 2.06-.94-2.06-.94L8.5 2.5l-.94 2.06-2.06.94zm10 10l.94 2.06.94-2.06 2.06-.94-2.06-.94-.94-2.06-.94 2.06-2.06.94z\"/><path d=\"M17.41 7.96l-1.37-1.37c-.4-.4-.92-.59-1.43-.59-.52 0-1.04.2-1.43.59L10.3 9.45l-7.72 7.72c-.78.78-.78 2.05 0 2.83L4 21.41c.39.39.9.59 1.41.59.51 0 1.02-.2 1.41-.59l7.78-7.78 2.81-2.81c.8-.78.8-2.07 0-2.86zM5.41 20L4 18.59l7.72-7.72 1.47 1.35L5.41 20z\"/>\n",
              "  </svg>\n",
              "      </button>\n",
              "      \n",
              "  <style>\n",
              "    .colab-df-container {\n",
              "      display:flex;\n",
              "      flex-wrap:wrap;\n",
              "      gap: 12px;\n",
              "    }\n",
              "\n",
              "    .colab-df-convert {\n",
              "      background-color: #E8F0FE;\n",
              "      border: none;\n",
              "      border-radius: 50%;\n",
              "      cursor: pointer;\n",
              "      display: none;\n",
              "      fill: #1967D2;\n",
              "      height: 32px;\n",
              "      padding: 0 0 0 0;\n",
              "      width: 32px;\n",
              "    }\n",
              "\n",
              "    .colab-df-convert:hover {\n",
              "      background-color: #E2EBFA;\n",
              "      box-shadow: 0px 1px 2px rgba(60, 64, 67, 0.3), 0px 1px 3px 1px rgba(60, 64, 67, 0.15);\n",
              "      fill: #174EA6;\n",
              "    }\n",
              "\n",
              "    [theme=dark] .colab-df-convert {\n",
              "      background-color: #3B4455;\n",
              "      fill: #D2E3FC;\n",
              "    }\n",
              "\n",
              "    [theme=dark] .colab-df-convert:hover {\n",
              "      background-color: #434B5C;\n",
              "      box-shadow: 0px 1px 3px 1px rgba(0, 0, 0, 0.15);\n",
              "      filter: drop-shadow(0px 1px 2px rgba(0, 0, 0, 0.3));\n",
              "      fill: #FFFFFF;\n",
              "    }\n",
              "  </style>\n",
              "\n",
              "      <script>\n",
              "        const buttonEl =\n",
              "          document.querySelector('#df-628bbfc0-b604-43a3-99db-2ca9ae9cd461 button.colab-df-convert');\n",
              "        buttonEl.style.display =\n",
              "          google.colab.kernel.accessAllowed ? 'block' : 'none';\n",
              "\n",
              "        async function convertToInteractive(key) {\n",
              "          const element = document.querySelector('#df-628bbfc0-b604-43a3-99db-2ca9ae9cd461');\n",
              "          const dataTable =\n",
              "            await google.colab.kernel.invokeFunction('convertToInteractive',\n",
              "                                                     [key], {});\n",
              "          if (!dataTable) return;\n",
              "\n",
              "          const docLinkHtml = 'Like what you see? Visit the ' +\n",
              "            '<a target=\"_blank\" href=https://colab.research.google.com/notebooks/data_table.ipynb>data table notebook</a>'\n",
              "            + ' to learn more about interactive tables.';\n",
              "          element.innerHTML = '';\n",
              "          dataTable['output_type'] = 'display_data';\n",
              "          await google.colab.output.renderOutput(dataTable, element);\n",
              "          const docLink = document.createElement('div');\n",
              "          docLink.innerHTML = docLinkHtml;\n",
              "          element.appendChild(docLink);\n",
              "        }\n",
              "      </script>\n",
              "    </div>\n",
              "  </div>\n",
              "  "
            ]
          },
          "metadata": {},
          "execution_count": 85
        }
      ]
    },
    {
      "cell_type": "code",
      "source": [
        "data = data.drop(columns=['pt_id', 'en_id'])\n",
        "data"
      ],
      "metadata": {
        "id": "ni7K-b6pABXn",
        "colab": {
          "base_uri": "https://localhost:8080/",
          "height": 424
        },
        "outputId": "39a402d9-644e-4ab8-8164-e58ba7625884"
      },
      "execution_count": null,
      "outputs": [
        {
          "output_type": "execute_result",
          "data": {
            "text/plain": [
              "                                 pt_sentence  \\\n",
              "0         Uma menina chorando abriu a porta.   \n",
              "1                 Vamos tentar alguma coisa!   \n",
              "2                         Preciso ir dormir.   \n",
              "3                         Preciso ir dormir.   \n",
              "4                 O sinal '&' significa 'e'.   \n",
              "...                                      ...   \n",
              "268434  Qual é o mais velho dos teus irmãos?   \n",
              "268435                         Que haja paz!   \n",
              "268436  Estamos do lado de fora de sua casa.   \n",
              "268437             Gostou dos nossos móveis?   \n",
              "268438           Gostaram dos nossos móveis?   \n",
              "\n",
              "                                  en_sentence  \n",
              "0              A crying girl opened the door.  \n",
              "1                        Let's try something.  \n",
              "2                      I have to go to sleep.  \n",
              "3                      I need to go to sleep.  \n",
              "4              The sign '&' stands for 'and'.  \n",
              "...                                       ...  \n",
              "268434  Which of your brothers is the eldest?  \n",
              "268435                    May there be peace!  \n",
              "268436             We are outside your house.  \n",
              "268437             Do you like our furniture?  \n",
              "268438             Do you like our furniture?  \n",
              "\n",
              "[268439 rows x 2 columns]"
            ],
            "text/html": [
              "\n",
              "  <div id=\"df-d69d890a-0e19-40d0-8254-f5f40bc7ea8b\">\n",
              "    <div class=\"colab-df-container\">\n",
              "      <div>\n",
              "<style scoped>\n",
              "    .dataframe tbody tr th:only-of-type {\n",
              "        vertical-align: middle;\n",
              "    }\n",
              "\n",
              "    .dataframe tbody tr th {\n",
              "        vertical-align: top;\n",
              "    }\n",
              "\n",
              "    .dataframe thead th {\n",
              "        text-align: right;\n",
              "    }\n",
              "</style>\n",
              "<table border=\"1\" class=\"dataframe\">\n",
              "  <thead>\n",
              "    <tr style=\"text-align: right;\">\n",
              "      <th></th>\n",
              "      <th>pt_sentence</th>\n",
              "      <th>en_sentence</th>\n",
              "    </tr>\n",
              "  </thead>\n",
              "  <tbody>\n",
              "    <tr>\n",
              "      <th>0</th>\n",
              "      <td>Uma menina chorando abriu a porta.</td>\n",
              "      <td>A crying girl opened the door.</td>\n",
              "    </tr>\n",
              "    <tr>\n",
              "      <th>1</th>\n",
              "      <td>Vamos tentar alguma coisa!</td>\n",
              "      <td>Let's try something.</td>\n",
              "    </tr>\n",
              "    <tr>\n",
              "      <th>2</th>\n",
              "      <td>Preciso ir dormir.</td>\n",
              "      <td>I have to go to sleep.</td>\n",
              "    </tr>\n",
              "    <tr>\n",
              "      <th>3</th>\n",
              "      <td>Preciso ir dormir.</td>\n",
              "      <td>I need to go to sleep.</td>\n",
              "    </tr>\n",
              "    <tr>\n",
              "      <th>4</th>\n",
              "      <td>O sinal '&amp;' significa 'e'.</td>\n",
              "      <td>The sign '&amp;' stands for 'and'.</td>\n",
              "    </tr>\n",
              "    <tr>\n",
              "      <th>...</th>\n",
              "      <td>...</td>\n",
              "      <td>...</td>\n",
              "    </tr>\n",
              "    <tr>\n",
              "      <th>268434</th>\n",
              "      <td>Qual é o mais velho dos teus irmãos?</td>\n",
              "      <td>Which of your brothers is the eldest?</td>\n",
              "    </tr>\n",
              "    <tr>\n",
              "      <th>268435</th>\n",
              "      <td>Que haja paz!</td>\n",
              "      <td>May there be peace!</td>\n",
              "    </tr>\n",
              "    <tr>\n",
              "      <th>268436</th>\n",
              "      <td>Estamos do lado de fora de sua casa.</td>\n",
              "      <td>We are outside your house.</td>\n",
              "    </tr>\n",
              "    <tr>\n",
              "      <th>268437</th>\n",
              "      <td>Gostou dos nossos móveis?</td>\n",
              "      <td>Do you like our furniture?</td>\n",
              "    </tr>\n",
              "    <tr>\n",
              "      <th>268438</th>\n",
              "      <td>Gostaram dos nossos móveis?</td>\n",
              "      <td>Do you like our furniture?</td>\n",
              "    </tr>\n",
              "  </tbody>\n",
              "</table>\n",
              "<p>268439 rows × 2 columns</p>\n",
              "</div>\n",
              "      <button class=\"colab-df-convert\" onclick=\"convertToInteractive('df-d69d890a-0e19-40d0-8254-f5f40bc7ea8b')\"\n",
              "              title=\"Convert this dataframe to an interactive table.\"\n",
              "              style=\"display:none;\">\n",
              "        \n",
              "  <svg xmlns=\"http://www.w3.org/2000/svg\" height=\"24px\"viewBox=\"0 0 24 24\"\n",
              "       width=\"24px\">\n",
              "    <path d=\"M0 0h24v24H0V0z\" fill=\"none\"/>\n",
              "    <path d=\"M18.56 5.44l.94 2.06.94-2.06 2.06-.94-2.06-.94-.94-2.06-.94 2.06-2.06.94zm-11 1L8.5 8.5l.94-2.06 2.06-.94-2.06-.94L8.5 2.5l-.94 2.06-2.06.94zm10 10l.94 2.06.94-2.06 2.06-.94-2.06-.94-.94-2.06-.94 2.06-2.06.94z\"/><path d=\"M17.41 7.96l-1.37-1.37c-.4-.4-.92-.59-1.43-.59-.52 0-1.04.2-1.43.59L10.3 9.45l-7.72 7.72c-.78.78-.78 2.05 0 2.83L4 21.41c.39.39.9.59 1.41.59.51 0 1.02-.2 1.41-.59l7.78-7.78 2.81-2.81c.8-.78.8-2.07 0-2.86zM5.41 20L4 18.59l7.72-7.72 1.47 1.35L5.41 20z\"/>\n",
              "  </svg>\n",
              "      </button>\n",
              "      \n",
              "  <style>\n",
              "    .colab-df-container {\n",
              "      display:flex;\n",
              "      flex-wrap:wrap;\n",
              "      gap: 12px;\n",
              "    }\n",
              "\n",
              "    .colab-df-convert {\n",
              "      background-color: #E8F0FE;\n",
              "      border: none;\n",
              "      border-radius: 50%;\n",
              "      cursor: pointer;\n",
              "      display: none;\n",
              "      fill: #1967D2;\n",
              "      height: 32px;\n",
              "      padding: 0 0 0 0;\n",
              "      width: 32px;\n",
              "    }\n",
              "\n",
              "    .colab-df-convert:hover {\n",
              "      background-color: #E2EBFA;\n",
              "      box-shadow: 0px 1px 2px rgba(60, 64, 67, 0.3), 0px 1px 3px 1px rgba(60, 64, 67, 0.15);\n",
              "      fill: #174EA6;\n",
              "    }\n",
              "\n",
              "    [theme=dark] .colab-df-convert {\n",
              "      background-color: #3B4455;\n",
              "      fill: #D2E3FC;\n",
              "    }\n",
              "\n",
              "    [theme=dark] .colab-df-convert:hover {\n",
              "      background-color: #434B5C;\n",
              "      box-shadow: 0px 1px 3px 1px rgba(0, 0, 0, 0.15);\n",
              "      filter: drop-shadow(0px 1px 2px rgba(0, 0, 0, 0.3));\n",
              "      fill: #FFFFFF;\n",
              "    }\n",
              "  </style>\n",
              "\n",
              "      <script>\n",
              "        const buttonEl =\n",
              "          document.querySelector('#df-d69d890a-0e19-40d0-8254-f5f40bc7ea8b button.colab-df-convert');\n",
              "        buttonEl.style.display =\n",
              "          google.colab.kernel.accessAllowed ? 'block' : 'none';\n",
              "\n",
              "        async function convertToInteractive(key) {\n",
              "          const element = document.querySelector('#df-d69d890a-0e19-40d0-8254-f5f40bc7ea8b');\n",
              "          const dataTable =\n",
              "            await google.colab.kernel.invokeFunction('convertToInteractive',\n",
              "                                                     [key], {});\n",
              "          if (!dataTable) return;\n",
              "\n",
              "          const docLinkHtml = 'Like what you see? Visit the ' +\n",
              "            '<a target=\"_blank\" href=https://colab.research.google.com/notebooks/data_table.ipynb>data table notebook</a>'\n",
              "            + ' to learn more about interactive tables.';\n",
              "          element.innerHTML = '';\n",
              "          dataTable['output_type'] = 'display_data';\n",
              "          await google.colab.output.renderOutput(dataTable, element);\n",
              "          const docLink = document.createElement('div');\n",
              "          docLink.innerHTML = docLinkHtml;\n",
              "          element.appendChild(docLink);\n",
              "        }\n",
              "      </script>\n",
              "    </div>\n",
              "  </div>\n",
              "  "
            ]
          },
          "metadata": {},
          "execution_count": 86
        }
      ]
    },
    {
      "cell_type": "code",
      "source": [
        "NB_BLEU = 1000\n",
        "RATIO_BLEU = NB_BLEU / len(data['pt_sentence'])\n",
        "SEED = 69420\n",
        "tmp_data = data.copy()\n",
        "bleu_sentences = tmp_data.sample(frac=RATIO_BLEU, random_state=SEED)\n",
        "\n",
        "(bleu_sentences)"
      ],
      "metadata": {
        "id": "bnrqRl6wADnN",
        "colab": {
          "base_uri": "https://localhost:8080/",
          "height": 424
        },
        "outputId": "bc978506-5408-48dd-bae8-6c9f7065232b"
      },
      "execution_count": null,
      "outputs": [
        {
          "output_type": "execute_result",
          "data": {
            "text/plain": [
              "                                              pt_sentence  \\\n",
              "112049                      Ainda produzem fitas cassete?   \n",
              "218080             Eu sei que você fez isso de propósito.   \n",
              "263193  Mary comprou um presente para a filha da amiga...   \n",
              "158124                          Você come carne todo dia?   \n",
              "17965                            A mãe dele estava certa.   \n",
              "...                                                   ...   \n",
              "86581                        Vou preparar-lhe uma bebida.   \n",
              "208828                      Não espero que você acredite.   \n",
              "95774                         Tom está estudando francês.   \n",
              "67192                   Tom está no hospital agora mesmo.   \n",
              "80903                            Tom tomou um banho frio.   \n",
              "\n",
              "                                             en_sentence  \n",
              "112049                Do they still make cassette tapes?  \n",
              "218080                   I know you did that on purpose.  \n",
              "263193  Mary bought a present for her friend's daughter.  \n",
              "158124                        Do you eat meat every day?  \n",
              "17965                              His mother was right.  \n",
              "...                                                  ...  \n",
              "86581                     I'm going to make you a drink.  \n",
              "208828                 I don't expect you to believe it.  \n",
              "95774                            Tom is learning French.  \n",
              "67192                  Tom is in the hospital right now.  \n",
              "80903                            Tom took a cold shower.  \n",
              "\n",
              "[1000 rows x 2 columns]"
            ],
            "text/html": [
              "\n",
              "  <div id=\"df-cf749624-fa43-4e7c-8284-caad58d33b09\">\n",
              "    <div class=\"colab-df-container\">\n",
              "      <div>\n",
              "<style scoped>\n",
              "    .dataframe tbody tr th:only-of-type {\n",
              "        vertical-align: middle;\n",
              "    }\n",
              "\n",
              "    .dataframe tbody tr th {\n",
              "        vertical-align: top;\n",
              "    }\n",
              "\n",
              "    .dataframe thead th {\n",
              "        text-align: right;\n",
              "    }\n",
              "</style>\n",
              "<table border=\"1\" class=\"dataframe\">\n",
              "  <thead>\n",
              "    <tr style=\"text-align: right;\">\n",
              "      <th></th>\n",
              "      <th>pt_sentence</th>\n",
              "      <th>en_sentence</th>\n",
              "    </tr>\n",
              "  </thead>\n",
              "  <tbody>\n",
              "    <tr>\n",
              "      <th>112049</th>\n",
              "      <td>Ainda produzem fitas cassete?</td>\n",
              "      <td>Do they still make cassette tapes?</td>\n",
              "    </tr>\n",
              "    <tr>\n",
              "      <th>218080</th>\n",
              "      <td>Eu sei que você fez isso de propósito.</td>\n",
              "      <td>I know you did that on purpose.</td>\n",
              "    </tr>\n",
              "    <tr>\n",
              "      <th>263193</th>\n",
              "      <td>Mary comprou um presente para a filha da amiga...</td>\n",
              "      <td>Mary bought a present for her friend's daughter.</td>\n",
              "    </tr>\n",
              "    <tr>\n",
              "      <th>158124</th>\n",
              "      <td>Você come carne todo dia?</td>\n",
              "      <td>Do you eat meat every day?</td>\n",
              "    </tr>\n",
              "    <tr>\n",
              "      <th>17965</th>\n",
              "      <td>A mãe dele estava certa.</td>\n",
              "      <td>His mother was right.</td>\n",
              "    </tr>\n",
              "    <tr>\n",
              "      <th>...</th>\n",
              "      <td>...</td>\n",
              "      <td>...</td>\n",
              "    </tr>\n",
              "    <tr>\n",
              "      <th>86581</th>\n",
              "      <td>Vou preparar-lhe uma bebida.</td>\n",
              "      <td>I'm going to make you a drink.</td>\n",
              "    </tr>\n",
              "    <tr>\n",
              "      <th>208828</th>\n",
              "      <td>Não espero que você acredite.</td>\n",
              "      <td>I don't expect you to believe it.</td>\n",
              "    </tr>\n",
              "    <tr>\n",
              "      <th>95774</th>\n",
              "      <td>Tom está estudando francês.</td>\n",
              "      <td>Tom is learning French.</td>\n",
              "    </tr>\n",
              "    <tr>\n",
              "      <th>67192</th>\n",
              "      <td>Tom está no hospital agora mesmo.</td>\n",
              "      <td>Tom is in the hospital right now.</td>\n",
              "    </tr>\n",
              "    <tr>\n",
              "      <th>80903</th>\n",
              "      <td>Tom tomou um banho frio.</td>\n",
              "      <td>Tom took a cold shower.</td>\n",
              "    </tr>\n",
              "  </tbody>\n",
              "</table>\n",
              "<p>1000 rows × 2 columns</p>\n",
              "</div>\n",
              "      <button class=\"colab-df-convert\" onclick=\"convertToInteractive('df-cf749624-fa43-4e7c-8284-caad58d33b09')\"\n",
              "              title=\"Convert this dataframe to an interactive table.\"\n",
              "              style=\"display:none;\">\n",
              "        \n",
              "  <svg xmlns=\"http://www.w3.org/2000/svg\" height=\"24px\"viewBox=\"0 0 24 24\"\n",
              "       width=\"24px\">\n",
              "    <path d=\"M0 0h24v24H0V0z\" fill=\"none\"/>\n",
              "    <path d=\"M18.56 5.44l.94 2.06.94-2.06 2.06-.94-2.06-.94-.94-2.06-.94 2.06-2.06.94zm-11 1L8.5 8.5l.94-2.06 2.06-.94-2.06-.94L8.5 2.5l-.94 2.06-2.06.94zm10 10l.94 2.06.94-2.06 2.06-.94-2.06-.94-.94-2.06-.94 2.06-2.06.94z\"/><path d=\"M17.41 7.96l-1.37-1.37c-.4-.4-.92-.59-1.43-.59-.52 0-1.04.2-1.43.59L10.3 9.45l-7.72 7.72c-.78.78-.78 2.05 0 2.83L4 21.41c.39.39.9.59 1.41.59.51 0 1.02-.2 1.41-.59l7.78-7.78 2.81-2.81c.8-.78.8-2.07 0-2.86zM5.41 20L4 18.59l7.72-7.72 1.47 1.35L5.41 20z\"/>\n",
              "  </svg>\n",
              "      </button>\n",
              "      \n",
              "  <style>\n",
              "    .colab-df-container {\n",
              "      display:flex;\n",
              "      flex-wrap:wrap;\n",
              "      gap: 12px;\n",
              "    }\n",
              "\n",
              "    .colab-df-convert {\n",
              "      background-color: #E8F0FE;\n",
              "      border: none;\n",
              "      border-radius: 50%;\n",
              "      cursor: pointer;\n",
              "      display: none;\n",
              "      fill: #1967D2;\n",
              "      height: 32px;\n",
              "      padding: 0 0 0 0;\n",
              "      width: 32px;\n",
              "    }\n",
              "\n",
              "    .colab-df-convert:hover {\n",
              "      background-color: #E2EBFA;\n",
              "      box-shadow: 0px 1px 2px rgba(60, 64, 67, 0.3), 0px 1px 3px 1px rgba(60, 64, 67, 0.15);\n",
              "      fill: #174EA6;\n",
              "    }\n",
              "\n",
              "    [theme=dark] .colab-df-convert {\n",
              "      background-color: #3B4455;\n",
              "      fill: #D2E3FC;\n",
              "    }\n",
              "\n",
              "    [theme=dark] .colab-df-convert:hover {\n",
              "      background-color: #434B5C;\n",
              "      box-shadow: 0px 1px 3px 1px rgba(0, 0, 0, 0.15);\n",
              "      filter: drop-shadow(0px 1px 2px rgba(0, 0, 0, 0.3));\n",
              "      fill: #FFFFFF;\n",
              "    }\n",
              "  </style>\n",
              "\n",
              "      <script>\n",
              "        const buttonEl =\n",
              "          document.querySelector('#df-cf749624-fa43-4e7c-8284-caad58d33b09 button.colab-df-convert');\n",
              "        buttonEl.style.display =\n",
              "          google.colab.kernel.accessAllowed ? 'block' : 'none';\n",
              "\n",
              "        async function convertToInteractive(key) {\n",
              "          const element = document.querySelector('#df-cf749624-fa43-4e7c-8284-caad58d33b09');\n",
              "          const dataTable =\n",
              "            await google.colab.kernel.invokeFunction('convertToInteractive',\n",
              "                                                     [key], {});\n",
              "          if (!dataTable) return;\n",
              "\n",
              "          const docLinkHtml = 'Like what you see? Visit the ' +\n",
              "            '<a target=\"_blank\" href=https://colab.research.google.com/notebooks/data_table.ipynb>data table notebook</a>'\n",
              "            + ' to learn more about interactive tables.';\n",
              "          element.innerHTML = '';\n",
              "          dataTable['output_type'] = 'display_data';\n",
              "          await google.colab.output.renderOutput(dataTable, element);\n",
              "          const docLink = document.createElement('div');\n",
              "          docLink.innerHTML = docLinkHtml;\n",
              "          element.appendChild(docLink);\n",
              "        }\n",
              "      </script>\n",
              "    </div>\n",
              "  </div>\n",
              "  "
            ]
          },
          "metadata": {},
          "execution_count": 87
        }
      ]
    },
    {
      "cell_type": "code",
      "source": [
        "translated = reloaded('este é o primeiro livro que eu fiz.').numpy().decode('UTF-8')\n",
        "type(translated), translated"
      ],
      "metadata": {
        "id": "ZHaqeEcYAF7M",
        "colab": {
          "base_uri": "https://localhost:8080/"
        },
        "outputId": "0ba3b848-1584-4dfb-dc44-5bbf4e9b2d7b"
      },
      "execution_count": null,
      "outputs": [
        {
          "output_type": "execute_result",
          "data": {
            "text/plain": [
              "(str, 'this is the first book i did .')"
            ]
          },
          "metadata": {},
          "execution_count": 90
        }
      ]
    },
    {
      "cell_type": "code",
      "source": [
        "sentences_to_translate = list(bleu_sentences['pt_sentence'])\n",
        "raw_translation = reloaded(sentences_to_translate[0])\n",
        "str_translation = raw_translation.numpy().decode('UTF-8')\n",
        "(raw_translation, str_translation)"
      ],
      "metadata": {
        "id": "IT4Yy9nPAIqo",
        "colab": {
          "base_uri": "https://localhost:8080/"
        },
        "outputId": "3006fe4b-d6d0-4900-c7ae-157673b5d67b"
      },
      "execution_count": null,
      "outputs": [
        {
          "output_type": "execute_result",
          "data": {
            "text/plain": [
              "(<tf.Tensor: shape=(), dtype=string, numpy=b'still do they produce cas ?'>,\n",
              " 'still do they produce cas ?')"
            ]
          },
          "metadata": {},
          "execution_count": 91
        }
      ]
    },
    {
      "cell_type": "code",
      "source": [
        "from nltk.translate.bleu_score import sentence_bleu\n",
        "import re"
      ],
      "metadata": {
        "id": "YtObIrEhAgV6"
      },
      "execution_count": null,
      "outputs": []
    },
    {
      "cell_type": "code",
      "source": [
        "euro_sentences_to_translate = list(bleu_sentences['pt_sentence'])\n",
        "euro_objective_translations = list(bleu_sentences['en_sentence'])"
      ],
      "metadata": {
        "id": "Dt7-Sxj1Aw73"
      },
      "execution_count": null,
      "outputs": []
    },
    {
      "cell_type": "code",
      "source": [
        "def compute_euro_bleu_score(translator_model):\n",
        "  score_sum = 0\n",
        "  for i in range(NB_BLEU):\n",
        "    candidate = translator_model(euro_sentences_to_translate[i]).numpy().decode('UTF-8').split()\n",
        "    reference = [re.findall(r\"[\\w']+|[.,!?;]\", euro_objective_translations[i].lower())]\n",
        "    score_sum += sentence_bleu(reference, candidate)\n",
        "\n",
        "  score_sum /= NB_BLEU\n",
        "\n",
        "  return score_sum * 100"
      ],
      "metadata": {
        "id": "5VDdLVg2AkZq"
      },
      "execution_count": null,
      "outputs": []
    },
    {
      "cell_type": "code",
      "source": [
        "score = compute_euro_bleu_score(export_translator)\n",
        "f\"the bleu score on european portuguese of the original model trained on european portuguese is {score}. Please note that this is a lower bound as we're only comparing to a single sentence\""
      ],
      "metadata": {
        "id": "TkCWRiGHA11g"
      },
      "execution_count": null,
      "outputs": []
    },
    {
      "cell_type": "markdown",
      "source": [
        "# loading brazilian portuguese data"
      ],
      "metadata": {
        "id": "kFW_CyrZB4bx"
      }
    },
    {
      "cell_type": "code",
      "source": [
        "BRAZILIAN_TRAIN_PATH = \"/gdrive/MyDrive/brazil_train.csv\"\n",
        "BRAZILIAN_TEST_PATH = \"/gdrive/MyDrive/brazil_test.csv\"\n",
        "BRAZILIAN_BLEU_PATH = \"/gdrive/MyDrive/brazil_validation.csv\""
      ],
      "metadata": {
        "id": "-VPX2ZOsB7lP"
      },
      "execution_count": null,
      "outputs": []
    },
    {
      "cell_type": "code",
      "source": [
        "def load_csv(filename):\n",
        "  headers = [\"id_qa\", \"corpus\", \"question_en_origin\", \"question_pt_origin\", \"question_en_paraphase\", \"question_pt_paraphase\", \"answer_en_origin\", \"answer_pt_origin\", \"answer_en_validate\", \"answer_pt_validate\", \"abstract\", \"eid_article_scopus\", \"question_generic\", \"answer_in_text\", \"answer_difficulty\", \"question_meaningful\", \"answer_equivalent\", \"question_type\", \"abstract_translated_pt\", \"pt_question_translated_to_en\"]\n",
        "  useless_headers =[\"pt_question_translated_to_en\", \"id_qa\", \"corpus\", \"abstract\", \"eid_article_scopus\", \"question_generic\", \"answer_in_text\", \"answer_difficulty\", \"question_meaningful\", \"answer_equivalent\", \"question_type\", \"abstract_translated_pt\"]\n",
        "  data = pd.read_csv(filename, names=headers, sep=',')\n",
        "  data = data.drop(columns=useless_headers)\n",
        "  data = data.drop(0)\n",
        "  return data"
      ],
      "metadata": {
        "id": "qJhLeaDXCTrh"
      },
      "execution_count": null,
      "outputs": []
    },
    {
      "cell_type": "code",
      "source": [
        "bra_train_data = load_csv(BRAZILIAN_TRAIN_PATH)\n",
        "print(bra_train_data.head(1))\n",
        "del bra_train_data"
      ],
      "metadata": {
        "id": "VcRwRPHZCXlM",
        "colab": {
          "base_uri": "https://localhost:8080/"
        },
        "outputId": "413df465-5c8d-47c7-f8b4-eaf263fc7a4f"
      },
      "execution_count": null,
      "outputs": [
        {
          "output_type": "stream",
          "name": "stdout",
          "text": [
            "                                  question_en_origin  \\\n",
            "1  What method can be used to estimate air–sea se...   \n",
            "\n",
            "                                  question_pt_origin  \\\n",
            "1  Qual método pode ser usado para estimar os flu...   \n",
            "\n",
            "                               question_en_paraphase  \\\n",
            "1  To estimate sensitive air-sea sensible and lat...   \n",
            "\n",
            "                               question_pt_paraphase  \\\n",
            "1  Para estimar fluxos ar-mar de calor sensíveis ...   \n",
            "\n",
            "                   answer_en_origin                     answer_pt_origin  \\\n",
            "1  The turbulent covariance method.  O método de covariância turbulenta.   \n",
            "\n",
            "                 answer_en_validate                        answer_pt_validate  \n",
            "1  The eddy covariance (EC) method.  O método da covariância turbulenta (EC).  \n"
          ]
        }
      ]
    },
    {
      "cell_type": "code",
      "source": [
        "def load_sentences(filename):\n",
        "  data = load_csv(filename)\n",
        "\n",
        "  sentences = dict()\n",
        "\n",
        "  sentences[\"en\"] = []\n",
        "  sentences[\"pt\"] = []\n",
        "\n",
        "  USEFUL_HEADER_PAIRS = [(\"question_en_origin\", \"question_pt_origin\"),\n",
        "      (\"question_en_paraphase\", \"question_pt_paraphase\"),\n",
        "      (\"answer_en_origin\", \"answer_pt_origin\"),\n",
        "      (\"answer_en_validate\", \"answer_pt_validate\")]\n",
        "\n",
        "  for index, row in data.iterrows():\n",
        "      for en_header, pt_header in USEFUL_HEADER_PAIRS:\n",
        "        if type(row[en_header]) == str and type(row[pt_header]) == str:\n",
        "          # sentences[\"en\"].append(tf.row[en_header])\n",
        "          # sentences[\"pt\"].append(row[pt_header])\n",
        "          #sentences[\"en\"].append(tf.convert_to_tensor(row[en_header],  dtype=tf.string))\n",
        "          #sentences[\"pt\"].append(tf.convert_to_tensor(row[pt_header],  dtype=tf.string))\n",
        "          sentences[\"en\"].append(row[en_header])\n",
        "          sentences[\"pt\"].append(row[pt_header])\n",
        "  sentences[\"en\"] = np.array(sentences['en'])\n",
        "  sentences[\"pt\"] = np.array(sentences['pt'])\n",
        "  return sentences"
      ],
      "metadata": {
        "id": "uT1yDs6UCZxW"
      },
      "execution_count": null,
      "outputs": []
    },
    {
      "cell_type": "code",
      "source": [
        "bra_train_sentences = load_sentences(BRAZILIAN_TRAIN_PATH)\n",
        "print(len(bra_train_sentences[\"en\"]))\n",
        "print(len(bra_train_sentences[\"pt\"]))"
      ],
      "metadata": {
        "id": "A7MDr3cvCg-G",
        "colab": {
          "base_uri": "https://localhost:8080/"
        },
        "outputId": "9a60ef55-a24a-4ffb-a198-e17a3f3974bb"
      },
      "execution_count": null,
      "outputs": [
        {
          "output_type": "stream",
          "name": "stdout",
          "text": [
            "6952\n",
            "6952\n"
          ]
        }
      ]
    },
    {
      "cell_type": "code",
      "source": [
        "bra_test_sentences = load_sentences(BRAZILIAN_TEST_PATH)\n",
        "print(len(bra_test_sentences[\"pt\"]))\n",
        "print(len(bra_test_sentences[\"en\"]))"
      ],
      "metadata": {
        "id": "Tp3VChvnCqf9",
        "colab": {
          "base_uri": "https://localhost:8080/"
        },
        "outputId": "75bbd252-1583-4375-eea1-7db7d6f5996c"
      },
      "execution_count": null,
      "outputs": [
        {
          "output_type": "stream",
          "name": "stdout",
          "text": [
            "861\n",
            "861\n"
          ]
        }
      ]
    },
    {
      "cell_type": "code",
      "source": [
        "bra_bleu_sentences = load_sentences(BRAZILIAN_BLEU_PATH)\n",
        "print(len(bra_bleu_sentences[\"pt\"]))\n",
        "print(len(bra_bleu_sentences[\"en\"]))"
      ],
      "metadata": {
        "id": "Tuh4DFikCkQ9",
        "colab": {
          "base_uri": "https://localhost:8080/"
        },
        "outputId": "d150319b-d69a-40a6-c28c-6914a6a50b5a"
      },
      "execution_count": null,
      "outputs": [
        {
          "output_type": "stream",
          "name": "stdout",
          "text": [
            "855\n",
            "855\n"
          ]
        }
      ]
    },
    {
      "cell_type": "markdown",
      "source": [
        "# computing bleu score of base model on brazilian portuguese"
      ],
      "metadata": {
        "id": "WGr1cRg4DCgs"
      }
    },
    {
      "cell_type": "code",
      "source": [
        "bra_sentences_to_translate = list(bra_bleu_sentences['pt'])\n",
        "bra_objective_translations = list(bra_bleu_sentences['en'])"
      ],
      "metadata": {
        "id": "LLsPSMdGDT8u"
      },
      "execution_count": null,
      "outputs": []
    },
    {
      "cell_type": "code",
      "source": [
        "def compute_bra_bleu_score(translator_model):\n",
        "  score_sum = 0\n",
        "  for i in range(len(bra_sentences_to_translate)):\n",
        "    candidate = translator_model(bra_sentences_to_translate[i]).numpy().decode('UTF-8').split()\n",
        "    reference = [re.findall(r\"[\\w']+|[.,!?;]\", bra_objective_translations[i].lower())]\n",
        "    score_sum += sentence_bleu(reference, candidate)\n",
        "\n",
        "  score_sum /= len(bra_sentences_to_translate)\n",
        "\n",
        "  return score_sum * 100"
      ],
      "metadata": {
        "id": "hgM_K7ffDYfb"
      },
      "execution_count": null,
      "outputs": []
    },
    {
      "cell_type": "code",
      "source": [
        "score = compute_bra_bleu_score(export_translator)\n",
        "f\"the bleu score on brazilian portuguese of the original model trained on european portuguese is {score}. Please note that this is a lower bound as we're only comparing to a single sentence\""
      ],
      "metadata": {
        "id": "cLX7hbekDdSP",
        "colab": {
          "base_uri": "https://localhost:8080/",
          "height": 365
        },
        "outputId": "22a14d99-32a4-4b2c-ada0-7de6d21ad6bb"
      },
      "execution_count": null,
      "outputs": [
        {
          "output_type": "stream",
          "name": "stderr",
          "text": [
            "/usr/local/lib/python3.7/dist-packages/nltk/translate/bleu_score.py:552: UserWarning: \n",
            "The hypothesis contains 0 counts of 3-gram overlaps.\n",
            "Therefore the BLEU score evaluates to 0, independently of\n",
            "how many N-gram overlaps of lower order it contains.\n",
            "Consider using lower n-gram order or use SmoothingFunction()\n",
            "  warnings.warn(_msg)\n",
            "/usr/local/lib/python3.7/dist-packages/nltk/translate/bleu_score.py:552: UserWarning: \n",
            "The hypothesis contains 0 counts of 4-gram overlaps.\n",
            "Therefore the BLEU score evaluates to 0, independently of\n",
            "how many N-gram overlaps of lower order it contains.\n",
            "Consider using lower n-gram order or use SmoothingFunction()\n",
            "  warnings.warn(_msg)\n",
            "/usr/local/lib/python3.7/dist-packages/nltk/translate/bleu_score.py:552: UserWarning: \n",
            "The hypothesis contains 0 counts of 2-gram overlaps.\n",
            "Therefore the BLEU score evaluates to 0, independently of\n",
            "how many N-gram overlaps of lower order it contains.\n",
            "Consider using lower n-gram order or use SmoothingFunction()\n",
            "  warnings.warn(_msg)\n"
          ]
        },
        {
          "output_type": "execute_result",
          "data": {
            "text/plain": [
              "\"the bleu score on brazilian portuguese of the original model trained on european portuguese is 10.387684244243218. Please note that this is a lower bound as we're only comparing to a single sentence\""
            ],
            "application/vnd.google.colaboratory.intrinsic+json": {
              "type": "string"
            }
          },
          "metadata": {},
          "execution_count": 105
        }
      ]
    },
    {
      "cell_type": "markdown",
      "source": [
        "# Making the adaptive model"
      ],
      "metadata": {
        "id": "afRtesfqGxVA"
      }
    },
    {
      "cell_type": "code",
      "source": [
        "export_translator.translator.transformer.encoder.trainable = False\n",
        "export_translator.translator.transformer.decoder.trainable = False\n",
        "export_translator.translator.transformer.final_layer.trainable = False"
      ],
      "metadata": {
        "id": "PawWRQnYMQVm"
      },
      "execution_count": null,
      "outputs": []
    },
    {
      "cell_type": "code",
      "source": [
        "class AdaptiveTransformer(tf.keras.Model):\n",
        "  def __init__(self, target_vocab_size, dropout_rate=0.1):\n",
        "    super().__init__()\n",
        "    self.encoder = export_translator.translator.transformer.encoder\n",
        "    self.decoder = export_translator.translator.transformer.decoder\n",
        "    self.adaptive_input = tf.keras.Input(shape=(64, 128, None))\n",
        "    self.first_adaptive_layer = tf.keras.layers.Dense(target_vocab_size)\n",
        "    self.second_adaptive_layer = tf.keras.layers.Dense(128)\n",
        "    self.final_layer = export_translator.translator.transformer.final_layer\n",
        "\n",
        "  def call(self, inputs):\n",
        "    # To use a Keras model with `.fit` you must pass all your inputs in the\n",
        "    # first argument.\n",
        "    context, x  = inputs\n",
        "\n",
        "    context = self.encoder(context)  # (batch_size, context_len, d_model)\n",
        "\n",
        "    x = self.decoder(x, context)  # (batch_size, target_len, d_model)\n",
        "    adaptive_1 = self.first_adaptive_layer(x)\n",
        "    adaptive_2 = self.second_adaptive_layer(adaptive_1)\n",
        "    # Final linear layer output.\n",
        "    logits = self.final_layer(adaptive_2)  # (batch_size, target_len, target_vocab_size)\n",
        "\n",
        "    try:\n",
        "      # Drop the keras mask, so it doesn't scale the losses/metrics.\n",
        "      # b/250038731\n",
        "      del logits._keras_mask\n",
        "    except AttributeError:\n",
        "      pass\n",
        "\n",
        "    # Return the final output and the attention weights.\n",
        "    return logits"
      ],
      "metadata": {
        "id": "1y1eg-i_HNHm"
      },
      "execution_count": null,
      "outputs": []
    },
    {
      "cell_type": "code",
      "source": [
        "adaptive_transformer = AdaptiveTransformer(\n",
        "    target_vocab_size=tokenizers.en.get_vocab_size().numpy(),\n",
        "    dropout_rate=dropout_rate)\n",
        "adaptive_transformer"
      ],
      "metadata": {
        "id": "T5UoMIWzQVpD",
        "colab": {
          "base_uri": "https://localhost:8080/"
        },
        "outputId": "66250df0-50ea-4a8d-ca11-6ec12cee8147"
      },
      "execution_count": null,
      "outputs": [
        {
          "output_type": "execute_result",
          "data": {
            "text/plain": [
              "<__main__.AdaptiveTransformer at 0x7fdc02156750>"
            ]
          },
          "metadata": {},
          "execution_count": 108
        }
      ]
    },
    {
      "cell_type": "code",
      "source": [
        "output = adaptive_transformer((pt, en))\n",
        "\n",
        "print(en.shape)\n",
        "print(pt.shape)\n",
        "print(output.shape)"
      ],
      "metadata": {
        "id": "HWe76QlAQqjP",
        "colab": {
          "base_uri": "https://localhost:8080/"
        },
        "outputId": "b83a842f-553e-458b-d8fe-7350a4b9994f"
      },
      "execution_count": null,
      "outputs": [
        {
          "output_type": "stream",
          "name": "stdout",
          "text": [
            "(64, 91)\n",
            "(64, 93)\n",
            "(64, 91, 7010)\n"
          ]
        }
      ]
    },
    {
      "cell_type": "code",
      "source": [
        "adaptive_transformer.summary()"
      ],
      "metadata": {
        "id": "ELo3DDnRV1_T",
        "colab": {
          "base_uri": "https://localhost:8080/"
        },
        "outputId": "5c206ba9-dc17-44e5-b186-4d6ecd9caabe"
      },
      "execution_count": null,
      "outputs": [
        {
          "output_type": "stream",
          "name": "stdout",
          "text": [
            "Model: \"adaptive_transformer\"\n",
            "_________________________________________________________________\n",
            " Layer (type)                Output Shape              Param #   \n",
            "=================================================================\n",
            " encoder_1 (Encoder)         multiple                  3632768   \n",
            "                                                                 \n",
            " decoder_1 (Decoder)         multiple                  5647104   \n",
            "                                                                 \n",
            " dense_39 (Dense)            multiple                  904290    \n",
            "                                                                 \n",
            " dense_40 (Dense)            multiple                  897408    \n",
            "                                                                 \n",
            " dense_38 (Dense)            multiple                  904290    \n",
            "                                                                 \n",
            "=================================================================\n",
            "Total params: 11,985,860\n",
            "Trainable params: 1,801,698\n",
            "Non-trainable params: 10,184,162\n",
            "_________________________________________________________________\n"
          ]
        }
      ]
    },
    {
      "cell_type": "markdown",
      "source": [
        "notice how 1,801,698 = 904290 + 897408, so we good"
      ],
      "metadata": {
        "id": "3XKayn0uWLaY"
      }
    },
    {
      "cell_type": "markdown",
      "source": [
        "# Preprocessing the brazilian portuguese data for training"
      ],
      "metadata": {
        "id": "XQFSfrFLWWA3"
      }
    },
    {
      "cell_type": "code",
      "source": [
        "bra_train = tf.data.Dataset.from_tensor_slices((bra_train_sentences[\"pt\"], bra_train_sentences[\"en\"]))\n",
        "bra_test = tf.data.Dataset.from_tensor_slices((bra_test_sentences[\"pt\"], bra_test_sentences[\"en\"]))\n",
        "(bra_train, len(bra_train), bra_test, len(bra_test))"
      ],
      "metadata": {
        "id": "8bQD-p8LWe7u",
        "colab": {
          "base_uri": "https://localhost:8080/"
        },
        "outputId": "cbbba4b3-e145-410d-91e6-c95dbd3705db"
      },
      "execution_count": null,
      "outputs": [
        {
          "output_type": "execute_result",
          "data": {
            "text/plain": [
              "(<TensorSliceDataset element_spec=(TensorSpec(shape=(), dtype=tf.string, name=None), TensorSpec(shape=(), dtype=tf.string, name=None))>,\n",
              " 6952,\n",
              " <TensorSliceDataset element_spec=(TensorSpec(shape=(), dtype=tf.string, name=None), TensorSpec(shape=(), dtype=tf.string, name=None))>,\n",
              " 861)"
            ]
          },
          "metadata": {},
          "execution_count": 104
        }
      ]
    },
    {
      "cell_type": "code",
      "source": [
        "for pt_examples, en_examples in bra_train.batch(3).take(1):\n",
        "    print(pt_examples, type(pt_examples))"
      ],
      "metadata": {
        "id": "rhOgKOynWzf-",
        "colab": {
          "base_uri": "https://localhost:8080/"
        },
        "outputId": "27f0805b-ff7d-4506-fd39-54e58658ef2e"
      },
      "execution_count": null,
      "outputs": [
        {
          "output_type": "stream",
          "name": "stdout",
          "text": [
            "tf.Tensor(\n",
            "[b'Qual m\\xc3\\xa9todo pode ser usado para estimar os fluxos ar-mar de calor sens\\xc3\\xadvel e latente?'\n",
            " b'Para estimar fluxos ar-mar de calor sens\\xc3\\xadveis e latentes, qual m\\xc3\\xa9todo \\xc3\\xa9 utilizado?'\n",
            " b'O m\\xc3\\xa9todo de covari\\xc3\\xa2ncia turbulenta.'], shape=(3,), dtype=string) <class 'tensorflow.python.framework.ops.EagerTensor'>\n"
          ]
        }
      ]
    },
    {
      "cell_type": "markdown",
      "source": [
        "# testing the brazilian portuguese dataset"
      ],
      "metadata": {
        "id": "t5uQsjxkXBP-"
      }
    },
    {
      "cell_type": "code",
      "source": [
        "# Create training and validation set batches.\n",
        "bra_train_batches = make_batches(bra_train)\n",
        "bra_val_batches = make_batches(bra_test)"
      ],
      "metadata": {
        "id": "u8auA00lXD58"
      },
      "execution_count": null,
      "outputs": []
    },
    {
      "cell_type": "code",
      "source": [
        "for (pt, en), en_labels in bra_train_batches.take(1):\n",
        "  break\n",
        "\n",
        "print(pt.shape)\n",
        "print(en.shape)\n",
        "print(en_labels.shape)"
      ],
      "metadata": {
        "id": "eb_5Y_1rXSyW",
        "colab": {
          "base_uri": "https://localhost:8080/"
        },
        "outputId": "a9e3d2e6-cac4-4dee-df4a-5fd511733e7a"
      },
      "execution_count": null,
      "outputs": [
        {
          "output_type": "stream",
          "name": "stdout",
          "text": [
            "(64, 88)\n",
            "(64, 74)\n",
            "(64, 74)\n"
          ]
        }
      ]
    },
    {
      "cell_type": "code",
      "source": [
        "print(en[0][:10])\n",
        "print(en_labels[0][:10])"
      ],
      "metadata": {
        "id": "xg7ltxnFXHDN",
        "colab": {
          "base_uri": "https://localhost:8080/"
        },
        "outputId": "bc2b8f30-c51a-4034-9306-a75b8741e7fd"
      },
      "execution_count": null,
      "outputs": [
        {
          "output_type": "stream",
          "name": "stdout",
          "text": [
            "tf.Tensor([   2  120   76   77  756 6407 1240 1413   88   71], shape=(10,), dtype=int64)\n",
            "tf.Tensor([ 120   76   77  756 6407 1240 1413   88   71 1186], shape=(10,), dtype=int64)\n"
          ]
        }
      ]
    },
    {
      "cell_type": "markdown",
      "source": [
        "# training the adaptive model"
      ],
      "metadata": {
        "id": "izuaWon6W5fE"
      }
    },
    {
      "cell_type": "code",
      "source": [
        "adaptive_transformer.compile(\n",
        "    loss=masked_loss,\n",
        "    optimizer=optimizer,\n",
        "    metrics=[masked_accuracy])"
      ],
      "metadata": {
        "id": "hTp1WTcEW6wg"
      },
      "execution_count": null,
      "outputs": []
    },
    {
      "cell_type": "code",
      "source": [
        "adaptive_transformer.fit(bra_train_batches,\n",
        "                epochs=20,\n",
        "                validation_data=bra_val_batches)"
      ],
      "metadata": {
        "id": "ZNWqQnNiX1NF",
        "colab": {
          "base_uri": "https://localhost:8080/"
        },
        "outputId": "86b532f3-8ce4-4861-ddd3-3b347e706f4b"
      },
      "execution_count": null,
      "outputs": [
        {
          "output_type": "stream",
          "name": "stdout",
          "text": [
            "Epoch 1/20\n",
            "109/109 [==============================] - 24s 156ms/step - loss: 3.6974 - masked_accuracy: 0.4294 - val_loss: 2.9082 - val_masked_accuracy: 0.5213\n",
            "Epoch 2/20\n",
            "109/109 [==============================] - 15s 140ms/step - loss: 3.2331 - masked_accuracy: 0.4679 - val_loss: 2.9102 - val_masked_accuracy: 0.5217\n",
            "Epoch 3/20\n",
            "109/109 [==============================] - 15s 139ms/step - loss: 3.2238 - masked_accuracy: 0.4679 - val_loss: 2.8917 - val_masked_accuracy: 0.5207\n",
            "Epoch 4/20\n",
            "109/109 [==============================] - 16s 143ms/step - loss: 3.2104 - masked_accuracy: 0.4698 - val_loss: 2.9030 - val_masked_accuracy: 0.5252\n",
            "Epoch 5/20\n",
            "109/109 [==============================] - 15s 140ms/step - loss: 3.1863 - masked_accuracy: 0.4721 - val_loss: 2.8531 - val_masked_accuracy: 0.5249\n",
            "Epoch 6/20\n",
            "109/109 [==============================] - 15s 139ms/step - loss: 3.1723 - masked_accuracy: 0.4743 - val_loss: 2.8538 - val_masked_accuracy: 0.5297\n",
            "Epoch 7/20\n",
            "109/109 [==============================] - 16s 150ms/step - loss: 3.1620 - masked_accuracy: 0.4744 - val_loss: 2.8398 - val_masked_accuracy: 0.5247\n",
            "Epoch 8/20\n",
            "109/109 [==============================] - 17s 153ms/step - loss: 3.1537 - masked_accuracy: 0.4739 - val_loss: 2.8279 - val_masked_accuracy: 0.5255\n",
            "Epoch 9/20\n",
            "109/109 [==============================] - 15s 141ms/step - loss: 3.1489 - masked_accuracy: 0.4757 - val_loss: 2.8141 - val_masked_accuracy: 0.5305\n",
            "Epoch 10/20\n",
            "109/109 [==============================] - 15s 137ms/step - loss: 3.1404 - masked_accuracy: 0.4758 - val_loss: 2.8257 - val_masked_accuracy: 0.5279\n",
            "Epoch 11/20\n",
            "109/109 [==============================] - 16s 144ms/step - loss: 3.1329 - masked_accuracy: 0.4774 - val_loss: 2.8340 - val_masked_accuracy: 0.5258\n",
            "Epoch 12/20\n",
            "109/109 [==============================] - 15s 137ms/step - loss: 3.1318 - masked_accuracy: 0.4759 - val_loss: 2.8059 - val_masked_accuracy: 0.5314\n",
            "Epoch 13/20\n",
            "109/109 [==============================] - 17s 152ms/step - loss: 3.1249 - masked_accuracy: 0.4776 - val_loss: 2.8193 - val_masked_accuracy: 0.5310\n",
            "Epoch 14/20\n",
            "109/109 [==============================] - 15s 139ms/step - loss: 3.1202 - masked_accuracy: 0.4778 - val_loss: 2.7900 - val_masked_accuracy: 0.5283\n",
            "Epoch 15/20\n",
            "109/109 [==============================] - 16s 150ms/step - loss: 3.1116 - masked_accuracy: 0.4798 - val_loss: 2.7939 - val_masked_accuracy: 0.5325\n",
            "Epoch 16/20\n",
            "109/109 [==============================] - 16s 143ms/step - loss: 3.1069 - masked_accuracy: 0.4804 - val_loss: 2.7913 - val_masked_accuracy: 0.5329\n",
            "Epoch 17/20\n",
            "109/109 [==============================] - 15s 141ms/step - loss: 3.1027 - masked_accuracy: 0.4791 - val_loss: 2.7837 - val_masked_accuracy: 0.5323\n",
            "Epoch 18/20\n",
            "109/109 [==============================] - 16s 143ms/step - loss: 3.1032 - masked_accuracy: 0.4796 - val_loss: 2.7904 - val_masked_accuracy: 0.5314\n",
            "Epoch 19/20\n",
            "109/109 [==============================] - 15s 141ms/step - loss: 3.1000 - masked_accuracy: 0.4807 - val_loss: 2.7963 - val_masked_accuracy: 0.5346\n",
            "Epoch 20/20\n",
            "109/109 [==============================] - 16s 149ms/step - loss: 3.0935 - masked_accuracy: 0.4819 - val_loss: 2.7875 - val_masked_accuracy: 0.5331\n"
          ]
        },
        {
          "output_type": "execute_result",
          "data": {
            "text/plain": [
              "<keras.callbacks.History at 0x7fdc02113910>"
            ]
          },
          "metadata": {},
          "execution_count": 117
        }
      ]
    },
    {
      "cell_type": "markdown",
      "source": [
        "# build translator wrapper for adaptive transformer"
      ],
      "metadata": {
        "id": "QxqFQweFZ7ga"
      }
    },
    {
      "cell_type": "code",
      "source": [
        "adaptive_translator = Translator(tokenizers, adaptive_transformer)"
      ],
      "metadata": {
        "id": "28uuiJmo5Xr0"
      },
      "execution_count": null,
      "outputs": []
    },
    {
      "cell_type": "code",
      "source": [
        "sentence = 'este é um problema que temos que resolver.'\n",
        "ground_truth = 'this is a problem we have to solve .'\n",
        "\n",
        "translated_text, translated_tokens, attention_weights = adaptive_translator(\n",
        "    tf.constant(sentence))\n",
        "print_translation(sentence, translated_text, ground_truth)"
      ],
      "metadata": {
        "id": "Ak7gbLzR5y_c",
        "colab": {
          "base_uri": "https://localhost:8080/"
        },
        "outputId": "e6b98664-271e-4971-a4bc-d61e0810b93f"
      },
      "execution_count": null,
      "outputs": [
        {
          "output_type": "stream",
          "name": "stdout",
          "text": [
            "Input:         : este é um problema que temos que resolver.\n",
            "Prediction     : this is a problem we have to solve .\n",
            "Ground truth   : this is a problem we have to solve .\n"
          ]
        }
      ]
    },
    {
      "cell_type": "code",
      "source": [
        "sentence = 'os meus vizinhos ouviram sobre esta ideia.'\n",
        "ground_truth = 'and my neighboring homes heard about this idea .'\n",
        "\n",
        "translated_text, translated_tokens, attention_weights = adaptive_translator(\n",
        "    tf.constant(sentence))\n",
        "print_translation(sentence, translated_text, ground_truth)"
      ],
      "metadata": {
        "id": "EQ3o4f9z59Iu",
        "colab": {
          "base_uri": "https://localhost:8080/"
        },
        "outputId": "7f05210e-8ce7-4931-b82e-b57aee1dbac4"
      },
      "execution_count": null,
      "outputs": [
        {
          "output_type": "stream",
          "name": "stdout",
          "text": [
            "Input:         : os meus vizinhos ouviram sobre esta ideia.\n",
            "Prediction     : my neighbors heard about this idea .\n",
            "Ground truth   : and my neighboring homes heard about this idea .\n"
          ]
        }
      ]
    },
    {
      "cell_type": "code",
      "source": [
        "sentence = 'vou então muito rapidamente partilhar convosco algumas histórias de algumas coisas mágicas que aconteceram.'\n",
        "ground_truth = \"so i'll just share with you some stories very quickly of some magical things that have happened.\"\n",
        "\n",
        "translated_text, translated_tokens, attention_weights = adaptive_translator(\n",
        "    tf.constant(sentence))\n",
        "print_translation(sentence, translated_text, ground_truth)"
      ],
      "metadata": {
        "id": "HNF9E6Cc6DVq",
        "colab": {
          "base_uri": "https://localhost:8080/"
        },
        "outputId": "0dd33cfe-6af2-46e6-934b-b8cff3619f41"
      },
      "execution_count": null,
      "outputs": [
        {
          "output_type": "stream",
          "name": "stdout",
          "text": [
            "Input:         : vou então muito rapidamente partilhar convosco algumas histórias de algumas coisas mágicas que aconteceram.\n",
            "Prediction     : so i will be very quickly to sharing with some of the magical stories that happened .\n",
            "Ground truth   : so i'll just share with you some stories very quickly of some magical things that have happened.\n"
          ]
        }
      ]
    },
    {
      "cell_type": "code",
      "source": [
        "adaptive_export_translator = ExportTranslator(adaptive_translator)"
      ],
      "metadata": {
        "id": "j9Bskedj5-u-"
      },
      "execution_count": null,
      "outputs": []
    },
    {
      "cell_type": "code",
      "source": [
        "sentences_to_translate = list(bleu_sentences['pt_sentence'])\n",
        "raw_translation = adaptive_export_translator(sentences_to_translate[0])\n",
        "str_translation = raw_translation.numpy().decode('UTF-8')\n",
        "(raw_translation, str_translation)"
      ],
      "metadata": {
        "id": "-DZHIZytetBY",
        "colab": {
          "base_uri": "https://localhost:8080/"
        },
        "outputId": "e36dab10-55e0-429e-e5e7-3a07299b0ff9"
      },
      "execution_count": null,
      "outputs": [
        {
          "output_type": "execute_result",
          "data": {
            "text/plain": [
              "(<tf.Tensor: shape=(), dtype=string, numpy=b'they still produce casize ?'>,\n",
              " 'they still produce casize ?')"
            ]
          },
          "metadata": {},
          "execution_count": 125
        }
      ]
    },
    {
      "cell_type": "code",
      "source": [
        "adaptive_export_translator('este é o primeiro livro que eu fiz.').numpy()"
      ],
      "metadata": {
        "id": "5DiImJUn6iOH",
        "colab": {
          "base_uri": "https://localhost:8080/"
        },
        "outputId": "f57c0bc6-58ca-4f43-cbae-f7f35286d1fd"
      },
      "execution_count": null,
      "outputs": [
        {
          "output_type": "execute_result",
          "data": {
            "text/plain": [
              "b'this is the first book that i was done .'"
            ]
          },
          "metadata": {},
          "execution_count": 126
        }
      ]
    },
    {
      "cell_type": "markdown",
      "source": [
        "# bleu score of adaptative model on european portuguese"
      ],
      "metadata": {
        "id": "1nQNrlYYZrVh"
      }
    },
    {
      "cell_type": "code",
      "source": [
        "score = compute_euro_bleu_score(adaptive_export_translator)\n",
        "f\"the bleu score on european portuguese of the adaptative model trained on european portuguese is {score}. Please note that this is a lower bound as we're only comparing to a single sentence\""
      ],
      "metadata": {
        "id": "iT_sLcIr3Tqb",
        "colab": {
          "base_uri": "https://localhost:8080/",
          "height": 52
        },
        "outputId": "7f745b73-f608-415e-b270-cc70d84e357f"
      },
      "execution_count": null,
      "outputs": [
        {
          "output_type": "execute_result",
          "data": {
            "text/plain": [
              "\"the bleu score on european portuguese of the adaptative model trained on european portuguese is 14.276654811766342. Please note that this is a lower bound as we're only comparing to a single sentence\""
            ],
            "application/vnd.google.colaboratory.intrinsic+json": {
              "type": "string"
            }
          },
          "metadata": {},
          "execution_count": 127
        }
      ]
    },
    {
      "cell_type": "markdown",
      "source": [
        "# bleu score of adaptative model on brazilian portuguese"
      ],
      "metadata": {
        "id": "PAYVO4un3P8H"
      }
    },
    {
      "cell_type": "code",
      "source": [
        "score = compute_bra_bleu_score(adaptive_export_translator)\n",
        "f\"the bleu score on brazilian portuguese of the adaptative model trained on european portuguese is {score}. Please note that this is a lower bound as we're only comparing to a single sentence\""
      ],
      "metadata": {
        "id": "9ITUzNKoZy8P",
        "colab": {
          "base_uri": "https://localhost:8080/",
          "height": 52
        },
        "outputId": "9fab10c7-a35c-493b-e477-4058d6c8c97e"
      },
      "execution_count": null,
      "outputs": [
        {
          "output_type": "execute_result",
          "data": {
            "text/plain": [
              "\"the bleu score on brazilian portuguese of the adaptative model trained on european portuguese is 13.134624191620537. Please note that this is a lower bound as we're only comparing to a single sentence\""
            ],
            "application/vnd.google.colaboratory.intrinsic+json": {
              "type": "string"
            }
          },
          "metadata": {},
          "execution_count": 128
        }
      ]
    },
    {
      "cell_type": "markdown",
      "source": [
        "# safe checking that the original model was indeed frozen"
      ],
      "metadata": {
        "id": "VqZbgHGlmDSj"
      }
    },
    {
      "cell_type": "code",
      "source": [
        "score = compute_euro_bleu_score(export_translator)\n",
        "f\"the bleu score on european portuguese of the original model trained on european portuguese is {score}. Please note that this is a lower bound as we're only comparing to a single sentence\""
      ],
      "metadata": {
        "colab": {
          "base_uri": "https://localhost:8080/",
          "height": 52
        },
        "id": "Id8P_Q9dmItr",
        "outputId": "fe1a5f9e-2af2-4034-bfc3-3dfbb1df8a6e"
      },
      "execution_count": null,
      "outputs": [
        {
          "output_type": "execute_result",
          "data": {
            "text/plain": [
              "\"the bleu score on european portuguese of the original model trained on european portuguese is 19.0514997602024. Please note that this is a lower bound as we're only comparing to a single sentence\""
            ],
            "application/vnd.google.colaboratory.intrinsic+json": {
              "type": "string"
            }
          },
          "metadata": {},
          "execution_count": 129
        }
      ]
    },
    {
      "cell_type": "markdown",
      "source": [
        "cool ! it worked properly, time to move to fine tuning"
      ],
      "metadata": {
        "id": "wgP_3_EcnimL"
      }
    },
    {
      "cell_type": "markdown",
      "source": [
        "# now working on the fine_tuning"
      ],
      "metadata": {
        "id": "h4C2DjWA-ll6"
      }
    },
    {
      "cell_type": "code",
      "source": [
        "export_translator.translator.transformer.encoder.trainable = True\n",
        "export_translator.translator.transformer.decoder.trainable = True\n",
        "export_translator.translator.transformer.final_layer.trainable = True"
      ],
      "metadata": {
        "id": "L-G9k8ZZHXco"
      },
      "execution_count": null,
      "outputs": []
    },
    {
      "cell_type": "code",
      "source": [
        "export_translator.translator.transformer.summary()"
      ],
      "metadata": {
        "id": "T7ulvkt1-p7R",
        "colab": {
          "base_uri": "https://localhost:8080/"
        },
        "outputId": "ee79c012-eec3-411a-ee39-8b5bd4f64cf2"
      },
      "execution_count": null,
      "outputs": [
        {
          "output_type": "stream",
          "name": "stdout",
          "text": [
            "Model: \"transformer\"\n",
            "_________________________________________________________________\n",
            " Layer (type)                Output Shape              Param #   \n",
            "=================================================================\n",
            " encoder_1 (Encoder)         multiple                  3632768   \n",
            "                                                                 \n",
            " decoder_1 (Decoder)         multiple                  5647104   \n",
            "                                                                 \n",
            " dense_38 (Dense)            multiple                  904290    \n",
            "                                                                 \n",
            "=================================================================\n",
            "Total params: 10,184,162\n",
            "Trainable params: 10,184,162\n",
            "Non-trainable params: 0\n",
            "_________________________________________________________________\n"
          ]
        }
      ]
    },
    {
      "cell_type": "code",
      "source": [
        "export_translator.translator.transformer.fit(bra_train_batches,\n",
        "                epochs=20,\n",
        "                validation_data=bra_val_batches)"
      ],
      "metadata": {
        "id": "EeXqTbhf-KBn",
        "colab": {
          "base_uri": "https://localhost:8080/"
        },
        "outputId": "8d388b9a-027f-4f06-f817-49d8205387c1"
      },
      "execution_count": null,
      "outputs": [
        {
          "output_type": "stream",
          "name": "stdout",
          "text": [
            "Epoch 1/20\n",
            "109/109 [==============================] - 25s 224ms/step - loss: 2.5368 - masked_accuracy: 0.5533 - val_loss: 1.9066 - val_masked_accuracy: 0.6444\n",
            "Epoch 2/20\n",
            "109/109 [==============================] - 26s 239ms/step - loss: 1.6213 - masked_accuracy: 0.6745 - val_loss: 1.7221 - val_masked_accuracy: 0.6785\n",
            "Epoch 3/20\n",
            "109/109 [==============================] - 26s 239ms/step - loss: 1.2538 - masked_accuracy: 0.7310 - val_loss: 1.6649 - val_masked_accuracy: 0.6924\n",
            "Epoch 4/20\n",
            "109/109 [==============================] - 25s 233ms/step - loss: 1.0058 - masked_accuracy: 0.7738 - val_loss: 1.6362 - val_masked_accuracy: 0.7069\n",
            "Epoch 5/20\n",
            "109/109 [==============================] - 26s 237ms/step - loss: 0.8304 - masked_accuracy: 0.8042 - val_loss: 1.6408 - val_masked_accuracy: 0.7130\n",
            "Epoch 6/20\n",
            "109/109 [==============================] - 25s 233ms/step - loss: 0.7002 - masked_accuracy: 0.8302 - val_loss: 1.6500 - val_masked_accuracy: 0.7146\n",
            "Epoch 7/20\n",
            "109/109 [==============================] - 26s 238ms/step - loss: 0.5981 - masked_accuracy: 0.8499 - val_loss: 1.6705 - val_masked_accuracy: 0.7182\n",
            "Epoch 8/20\n",
            "109/109 [==============================] - 25s 234ms/step - loss: 0.5198 - masked_accuracy: 0.8659 - val_loss: 1.7197 - val_masked_accuracy: 0.7096\n",
            "Epoch 9/20\n",
            "109/109 [==============================] - 26s 235ms/step - loss: 0.4544 - masked_accuracy: 0.8806 - val_loss: 1.7493 - val_masked_accuracy: 0.7151\n",
            "Epoch 10/20\n",
            "109/109 [==============================] - 26s 235ms/step - loss: 0.3986 - masked_accuracy: 0.8927 - val_loss: 1.7719 - val_masked_accuracy: 0.7144\n",
            "Epoch 11/20\n",
            "109/109 [==============================] - 27s 244ms/step - loss: 0.3555 - masked_accuracy: 0.9030 - val_loss: 1.8251 - val_masked_accuracy: 0.7166\n",
            "Epoch 12/20\n",
            "109/109 [==============================] - 26s 236ms/step - loss: 0.3173 - masked_accuracy: 0.9130 - val_loss: 1.8548 - val_masked_accuracy: 0.7170\n",
            "Epoch 13/20\n",
            "109/109 [==============================] - 27s 245ms/step - loss: 0.2868 - masked_accuracy: 0.9202 - val_loss: 1.9069 - val_masked_accuracy: 0.7140\n",
            "Epoch 14/20\n",
            "109/109 [==============================] - 26s 234ms/step - loss: 0.2642 - masked_accuracy: 0.9253 - val_loss: 1.9026 - val_masked_accuracy: 0.7141\n",
            "Epoch 15/20\n",
            "109/109 [==============================] - 27s 250ms/step - loss: 0.2383 - masked_accuracy: 0.9323 - val_loss: 1.9402 - val_masked_accuracy: 0.7146\n",
            "Epoch 16/20\n",
            "109/109 [==============================] - 27s 249ms/step - loss: 0.2237 - masked_accuracy: 0.9361 - val_loss: 1.9877 - val_masked_accuracy: 0.7157\n",
            "Epoch 17/20\n",
            "109/109 [==============================] - 27s 248ms/step - loss: 0.2073 - masked_accuracy: 0.9408 - val_loss: 2.0086 - val_masked_accuracy: 0.7115\n",
            "Epoch 18/20\n",
            "109/109 [==============================] - 25s 230ms/step - loss: 0.1954 - masked_accuracy: 0.9437 - val_loss: 2.0492 - val_masked_accuracy: 0.7130\n",
            "Epoch 19/20\n",
            "109/109 [==============================] - 26s 237ms/step - loss: 0.1776 - masked_accuracy: 0.9495 - val_loss: 2.0432 - val_masked_accuracy: 0.7146\n",
            "Epoch 20/20\n",
            "109/109 [==============================] - 27s 245ms/step - loss: 0.1701 - masked_accuracy: 0.9513 - val_loss: 2.1045 - val_masked_accuracy: 0.7131\n"
          ]
        },
        {
          "output_type": "execute_result",
          "data": {
            "text/plain": [
              "<keras.callbacks.History at 0x7fddf4b7bed0>"
            ]
          },
          "metadata": {},
          "execution_count": 132
        }
      ]
    },
    {
      "cell_type": "markdown",
      "source": [
        "# bleu score of fine tuned model on european portuguese"
      ],
      "metadata": {
        "id": "FulIdbrQA-cf"
      }
    },
    {
      "cell_type": "code",
      "source": [
        "score = compute_euro_bleu_score(export_translator)\n",
        "f\"the bleu score on european portuguese of the fine tuned model trained is {score}. Please note that this is a lower bound as we're only comparing to a single sentence\""
      ],
      "metadata": {
        "id": "Tc90a-esCLyI",
        "colab": {
          "base_uri": "https://localhost:8080/",
          "height": 35
        },
        "outputId": "e32d4310-a462-480b-d807-9394058cf276"
      },
      "execution_count": null,
      "outputs": [
        {
          "output_type": "execute_result",
          "data": {
            "text/plain": [
              "\"the bleu score on european portuguese of the fine tuned model trained is 4.273410268203451. Please note that this is a lower bound as we're only comparing to a single sentence\""
            ],
            "application/vnd.google.colaboratory.intrinsic+json": {
              "type": "string"
            }
          },
          "metadata": {},
          "execution_count": 133
        }
      ]
    },
    {
      "cell_type": "markdown",
      "source": [
        "# bleu score of fine tuned model on brazilian portuguese"
      ],
      "metadata": {
        "id": "B4bXX7CKBC8w"
      }
    },
    {
      "cell_type": "code",
      "source": [
        "score = compute_bra_bleu_score(export_translator)\n",
        "f\"the bleu score on brazilian portuguese of the fine tuned model trained is {score}. Please note that this is a lower bound as we're only comparing to a single sentence\""
      ],
      "metadata": {
        "id": "ijl4trETBAkK",
        "colab": {
          "base_uri": "https://localhost:8080/",
          "height": 35
        },
        "outputId": "478fda22-b18c-49d1-aa7c-d14984686966"
      },
      "execution_count": null,
      "outputs": [
        {
          "output_type": "execute_result",
          "data": {
            "text/plain": [
              "\"the bleu score on brazilian portuguese of the fine tuned model trained is 30.629539239089958. Please note that this is a lower bound as we're only comparing to a single sentence\""
            ],
            "application/vnd.google.colaboratory.intrinsic+json": {
              "type": "string"
            }
          },
          "metadata": {},
          "execution_count": 134
        }
      ]
    },
    {
      "cell_type": "markdown",
      "source": [
        "# transformer model trained on all data at once"
      ],
      "metadata": {
        "id": "PVxiJ_XJK33M"
      }
    },
    {
      "cell_type": "markdown",
      "source": [
        "## create the model"
      ],
      "metadata": {
        "id": "M7Bbdz-HuE4J"
      }
    },
    {
      "cell_type": "code",
      "source": [
        "all_data_transformer = Transformer(\n",
        "    num_layers=num_layers,\n",
        "    d_model=d_model,\n",
        "    num_heads=num_heads,\n",
        "    dff=dff,\n",
        "    input_vocab_size=tokenizers.pt.get_vocab_size().numpy(),\n",
        "    target_vocab_size=tokenizers.en.get_vocab_size().numpy(),\n",
        "    dropout_rate=dropout_rate)"
      ],
      "metadata": {
        "id": "ilGx64xPukQB"
      },
      "execution_count": null,
      "outputs": []
    },
    {
      "cell_type": "markdown",
      "source": [
        "Quick test"
      ],
      "metadata": {
        "id": "Nd5hwp1buySs"
      }
    },
    {
      "cell_type": "code",
      "source": [
        "output = all_data_transformer((pt, en))\n",
        "\n",
        "print(en.shape)\n",
        "print(pt.shape)\n",
        "print(output.shape)"
      ],
      "metadata": {
        "colab": {
          "base_uri": "https://localhost:8080/"
        },
        "id": "pmRiRK9Hunku",
        "outputId": "0843990c-5edd-4843-e394-5d6eab2650ad"
      },
      "execution_count": null,
      "outputs": [
        {
          "output_type": "stream",
          "name": "stdout",
          "text": [
            "(64, 119)\n",
            "(64, 119)\n",
            "(64, 119, 7010)\n"
          ]
        }
      ]
    },
    {
      "cell_type": "markdown",
      "source": [
        "## merge all the data"
      ],
      "metadata": {
        "id": "9xL_4MkBuBBF"
      }
    },
    {
      "cell_type": "code",
      "source": [
        "combined_train = train_examples.concatenate(bra_train)\n",
        "combined_train"
      ],
      "metadata": {
        "colab": {
          "base_uri": "https://localhost:8080/"
        },
        "id": "5rV-L2UTvbRR",
        "outputId": "ea22e889-ce1b-426e-df83-63433aa0b176"
      },
      "execution_count": null,
      "outputs": [
        {
          "output_type": "execute_result",
          "data": {
            "text/plain": [
              "<ConcatenateDataset element_spec=(TensorSpec(shape=(), dtype=tf.string, name=None), TensorSpec(shape=(), dtype=tf.string, name=None))>"
            ]
          },
          "metadata": {},
          "execution_count": 152
        }
      ]
    },
    {
      "cell_type": "code",
      "source": [
        "combined_val = val_examples.concatenate(bra_test)\n",
        "combined_val"
      ],
      "metadata": {
        "colab": {
          "base_uri": "https://localhost:8080/"
        },
        "id": "OzCAKETEvfEc",
        "outputId": "3b11d031-ae81-4fe6-b4ce-b51cdb246995"
      },
      "execution_count": null,
      "outputs": [
        {
          "output_type": "execute_result",
          "data": {
            "text/plain": [
              "<ConcatenateDataset element_spec=(TensorSpec(shape=(), dtype=tf.string, name=None), TensorSpec(shape=(), dtype=tf.string, name=None))>"
            ]
          },
          "metadata": {},
          "execution_count": 154
        }
      ]
    },
    {
      "cell_type": "code",
      "source": [
        "combined_train_batches = make_batches(combined_train)\n",
        "combined_train_batches"
      ],
      "metadata": {
        "colab": {
          "base_uri": "https://localhost:8080/"
        },
        "id": "wk_7Y039aCSM",
        "outputId": "d9b114f7-25bb-4041-b8e7-7fbed278e913"
      },
      "execution_count": null,
      "outputs": [
        {
          "output_type": "execute_result",
          "data": {
            "text/plain": [
              "<PrefetchDataset element_spec=((TensorSpec(shape=(None, None), dtype=tf.int64, name=None), TensorSpec(shape=(None, None), dtype=tf.int64, name=None)), TensorSpec(shape=(None, None), dtype=tf.int64, name=None))>"
            ]
          },
          "metadata": {},
          "execution_count": 155
        }
      ]
    },
    {
      "cell_type": "code",
      "source": [
        "combined_val_batches = make_batches(combined_val)\n",
        "combined_val_batches"
      ],
      "metadata": {
        "colab": {
          "base_uri": "https://localhost:8080/"
        },
        "id": "GDOYcE-EaNEY",
        "outputId": "c9b3d51e-0216-4cdd-cc22-4a97e41cecba"
      },
      "execution_count": null,
      "outputs": [
        {
          "output_type": "execute_result",
          "data": {
            "text/plain": [
              "<PrefetchDataset element_spec=((TensorSpec(shape=(None, None), dtype=tf.int64, name=None), TensorSpec(shape=(None, None), dtype=tf.int64, name=None)), TensorSpec(shape=(None, None), dtype=tf.int64, name=None))>"
            ]
          },
          "metadata": {},
          "execution_count": 156
        }
      ]
    },
    {
      "cell_type": "markdown",
      "source": [
        "## train on all data at once"
      ],
      "metadata": {
        "id": "eZOXloNCvkmd"
      }
    },
    {
      "cell_type": "code",
      "source": [
        "learning_rate = CustomSchedule(d_model)\n",
        "\n",
        "optimizer = tf.keras.optimizers.Adam(learning_rate, beta_1=0.9, beta_2=0.98,\n",
        "                                     epsilon=1e-9)"
      ],
      "metadata": {
        "id": "an47tmhlUjm4"
      },
      "execution_count": null,
      "outputs": []
    },
    {
      "cell_type": "code",
      "source": [
        "all_data_transformer.compile(\n",
        "    loss=masked_loss,\n",
        "    optimizer=optimizer,\n",
        "    metrics=[masked_accuracy])"
      ],
      "metadata": {
        "id": "0lNVcurWvmhz"
      },
      "execution_count": null,
      "outputs": []
    },
    {
      "cell_type": "code",
      "source": [
        "all_data_transformer.fit(combined_train_batches,\n",
        "                epochs=20,\n",
        "                validation_data=combined_val_batches)"
      ],
      "metadata": {
        "colab": {
          "base_uri": "https://localhost:8080/"
        },
        "id": "VqbgRxsrvtsY",
        "outputId": "d28d2329-4389-49d0-d140-bf13e21a1453"
      },
      "execution_count": null,
      "outputs": [
        {
          "output_type": "stream",
          "name": "stdout",
          "text": [
            "Epoch 1/20\n",
            "918/918 [==============================] - 225s 235ms/step - loss: 3.9789 - masked_accuracy: 0.2923 - val_loss: 5.0258 - val_masked_accuracy: 0.2146\n",
            "Epoch 2/20\n",
            "918/918 [==============================] - 217s 236ms/step - loss: 3.9534 - masked_accuracy: 0.2954 - val_loss: 4.8613 - val_masked_accuracy: 0.2233\n",
            "Epoch 3/20\n",
            "918/918 [==============================] - 216s 235ms/step - loss: 3.9891 - masked_accuracy: 0.2921 - val_loss: 5.0265 - val_masked_accuracy: 0.2135\n",
            "Epoch 4/20\n",
            "918/918 [==============================] - 219s 238ms/step - loss: 4.0382 - masked_accuracy: 0.2885 - val_loss: 4.7485 - val_masked_accuracy: 0.2320\n",
            "Epoch 5/20\n",
            "918/918 [==============================] - 217s 236ms/step - loss: 4.0715 - masked_accuracy: 0.2862 - val_loss: 4.9185 - val_masked_accuracy: 0.2203\n",
            "Epoch 6/20\n",
            "918/918 [==============================] - 217s 236ms/step - loss: 4.0266 - masked_accuracy: 0.2900 - val_loss: 4.9734 - val_masked_accuracy: 0.2198\n",
            "Epoch 7/20\n",
            "918/918 [==============================] - 216s 235ms/step - loss: 3.9785 - masked_accuracy: 0.2943 - val_loss: 4.7390 - val_masked_accuracy: 0.2357\n",
            "Epoch 8/20\n",
            "918/918 [==============================] - 217s 236ms/step - loss: 3.9372 - masked_accuracy: 0.2987 - val_loss: 4.6960 - val_masked_accuracy: 0.2406\n",
            "Epoch 9/20\n",
            "918/918 [==============================] - 218s 237ms/step - loss: 3.8990 - masked_accuracy: 0.3022 - val_loss: 4.7815 - val_masked_accuracy: 0.2348\n",
            "Epoch 10/20\n",
            "918/918 [==============================] - 218s 237ms/step - loss: 3.8659 - masked_accuracy: 0.3052 - val_loss: 4.6683 - val_masked_accuracy: 0.2453\n",
            "Epoch 11/20\n",
            "918/918 [==============================] - 216s 235ms/step - loss: 3.8386 - masked_accuracy: 0.3075 - val_loss: 4.7019 - val_masked_accuracy: 0.2418\n",
            "Epoch 12/20\n",
            "918/918 [==============================] - 216s 235ms/step - loss: 3.8126 - masked_accuracy: 0.3102 - val_loss: 4.7308 - val_masked_accuracy: 0.2448\n",
            "Epoch 13/20\n",
            "918/918 [==============================] - 217s 235ms/step - loss: 3.7874 - masked_accuracy: 0.3129 - val_loss: 4.5885 - val_masked_accuracy: 0.2531\n",
            "Epoch 14/20\n",
            "918/918 [==============================] - 217s 236ms/step - loss: 3.7669 - masked_accuracy: 0.3150 - val_loss: 4.6030 - val_masked_accuracy: 0.2503\n",
            "Epoch 15/20\n",
            "918/918 [==============================] - 218s 237ms/step - loss: 3.7455 - masked_accuracy: 0.3169 - val_loss: 4.6171 - val_masked_accuracy: 0.2555\n",
            "Epoch 16/20\n",
            "918/918 [==============================] - 217s 236ms/step - loss: 3.7276 - masked_accuracy: 0.3190 - val_loss: 4.5667 - val_masked_accuracy: 0.2566\n",
            "Epoch 17/20\n",
            "918/918 [==============================] - 217s 236ms/step - loss: 3.7107 - masked_accuracy: 0.3207 - val_loss: 4.4784 - val_masked_accuracy: 0.2644\n",
            "Epoch 18/20\n",
            "918/918 [==============================] - 217s 236ms/step - loss: 3.6945 - masked_accuracy: 0.3222 - val_loss: 4.5012 - val_masked_accuracy: 0.2626\n",
            "Epoch 19/20\n",
            "918/918 [==============================] - 217s 236ms/step - loss: 3.6791 - masked_accuracy: 0.3238 - val_loss: 4.4174 - val_masked_accuracy: 0.2695\n",
            "Epoch 20/20\n",
            "918/918 [==============================] - 217s 236ms/step - loss: 3.6670 - masked_accuracy: 0.3255 - val_loss: 4.3970 - val_masked_accuracy: 0.2712\n"
          ]
        },
        {
          "output_type": "execute_result",
          "data": {
            "text/plain": [
              "<keras.callbacks.History at 0x7fdbfed2c3d0>"
            ]
          },
          "metadata": {},
          "execution_count": 159
        }
      ]
    },
    {
      "cell_type": "markdown",
      "source": [
        "# build translator wrapper for the model trained on all data"
      ],
      "metadata": {
        "id": "w97sFn4ixtqs"
      }
    },
    {
      "cell_type": "code",
      "source": [
        "all_data_translator = Translator(tokenizers, all_data_transformer)"
      ],
      "metadata": {
        "id": "fsGIFG-XxwIa"
      },
      "execution_count": null,
      "outputs": []
    },
    {
      "cell_type": "code",
      "source": [
        "sentence = 'este é um problema que temos que resolver.'\n",
        "ground_truth = 'this is a problem we have to solve .'\n",
        "\n",
        "translated_text, translated_tokens, attention_weights = all_data_translator(\n",
        "    tf.constant(sentence))\n",
        "print_translation(sentence, translated_text, ground_truth)"
      ],
      "metadata": {
        "colab": {
          "base_uri": "https://localhost:8080/"
        },
        "id": "RxN_vqRkx3ma",
        "outputId": "4c61cbac-7678-440e-abec-99d00d3c0254"
      },
      "execution_count": null,
      "outputs": [
        {
          "output_type": "stream",
          "name": "stdout",
          "text": [
            "Input:         : este é um problema que temos que resolver.\n",
            "Prediction     : it ' s a problem .\n",
            "Ground truth   : this is a problem we have to solve .\n"
          ]
        }
      ]
    },
    {
      "cell_type": "code",
      "source": [
        "all_data_export_translator = ExportTranslator(all_data_translator)"
      ],
      "metadata": {
        "id": "2et-BSlFyFxP"
      },
      "execution_count": null,
      "outputs": []
    },
    {
      "cell_type": "code",
      "source": [
        "sentences_to_translate = list(bleu_sentences['pt_sentence'])\n",
        "raw_translation = all_data_export_translator(sentences_to_translate[0])\n",
        "str_translation = raw_translation.numpy().decode('UTF-8')\n",
        "(raw_translation, str_translation)"
      ],
      "metadata": {
        "colab": {
          "base_uri": "https://localhost:8080/"
        },
        "id": "Okitnm2dyRum",
        "outputId": "f4c64dc4-760f-4276-a737-37b571b6419b"
      },
      "execution_count": null,
      "outputs": [
        {
          "output_type": "execute_result",
          "data": {
            "text/plain": [
              "(<tf.Tensor: shape=(), dtype=string, numpy=b'what were the purpose of the piranema ?'>,\n",
              " 'what were the purpose of the piranema ?')"
            ]
          },
          "metadata": {},
          "execution_count": 163
        }
      ]
    },
    {
      "cell_type": "markdown",
      "source": [
        "# evaluate bleu"
      ],
      "metadata": {
        "id": "V6nggbtcxDLV"
      }
    },
    {
      "cell_type": "code",
      "source": [
        "score = compute_euro_bleu_score(all_data_export_translator)\n",
        "f\"the bleu score on european portuguese of the trained on both portugueses is {score}. Please note that this is a lower bound as we're only comparing to a single sentence\""
      ],
      "metadata": {
        "colab": {
          "base_uri": "https://localhost:8080/",
          "height": 365
        },
        "id": "rfdQuDHoyXB7",
        "outputId": "8fef5d22-dd59-4d64-b5b4-63a5d665dc91"
      },
      "execution_count": null,
      "outputs": [
        {
          "output_type": "stream",
          "name": "stderr",
          "text": [
            "/usr/local/lib/python3.7/dist-packages/nltk/translate/bleu_score.py:552: UserWarning: \n",
            "The hypothesis contains 0 counts of 2-gram overlaps.\n",
            "Therefore the BLEU score evaluates to 0, independently of\n",
            "how many N-gram overlaps of lower order it contains.\n",
            "Consider using lower n-gram order or use SmoothingFunction()\n",
            "  warnings.warn(_msg)\n",
            "/usr/local/lib/python3.7/dist-packages/nltk/translate/bleu_score.py:552: UserWarning: \n",
            "The hypothesis contains 0 counts of 3-gram overlaps.\n",
            "Therefore the BLEU score evaluates to 0, independently of\n",
            "how many N-gram overlaps of lower order it contains.\n",
            "Consider using lower n-gram order or use SmoothingFunction()\n",
            "  warnings.warn(_msg)\n",
            "/usr/local/lib/python3.7/dist-packages/nltk/translate/bleu_score.py:552: UserWarning: \n",
            "The hypothesis contains 0 counts of 4-gram overlaps.\n",
            "Therefore the BLEU score evaluates to 0, independently of\n",
            "how many N-gram overlaps of lower order it contains.\n",
            "Consider using lower n-gram order or use SmoothingFunction()\n",
            "  warnings.warn(_msg)\n"
          ]
        },
        {
          "output_type": "execute_result",
          "data": {
            "text/plain": [
              "\"the bleu score on european portuguese of the trained on both portugueses is 0.0237692636628387. Please note that this is a lower bound as we're only comparing to a single sentence\""
            ],
            "application/vnd.google.colaboratory.intrinsic+json": {
              "type": "string"
            }
          },
          "metadata": {},
          "execution_count": 164
        }
      ]
    },
    {
      "cell_type": "code",
      "source": [
        "score = compute_bra_bleu_score(all_data_export_translator)\n",
        "f\"the bleu score on brazilian portuguese of the trained on both portugueses is {score}. Please note that this is a lower bound as we're only comparing to a single sentence\""
      ],
      "metadata": {
        "colab": {
          "base_uri": "https://localhost:8080/",
          "height": 52
        },
        "id": "Snpw98-Fx7Dq",
        "outputId": "eaef0427-ee54-4ff8-d1bf-6c1f4ba09104"
      },
      "execution_count": null,
      "outputs": [
        {
          "output_type": "execute_result",
          "data": {
            "text/plain": [
              "\"the bleu score on brazilian portuguese of the trained on both portugueses is 0.17566069285075073. Please note that this is a lower bound as we're only comparing to a single sentence\""
            ],
            "application/vnd.google.colaboratory.intrinsic+json": {
              "type": "string"
            }
          },
          "metadata": {},
          "execution_count": 165
        }
      ]
    },
    {
      "cell_type": "markdown",
      "source": [
        "# train on brazilian data only"
      ],
      "metadata": {
        "id": "K6n81h9AuL8n"
      }
    },
    {
      "cell_type": "code",
      "source": [
        "brazilian_only_transformer = Transformer(\n",
        "    num_layers=num_layers,\n",
        "    d_model=d_model,\n",
        "    num_heads=num_heads,\n",
        "    dff=dff,\n",
        "    input_vocab_size=tokenizers.pt.get_vocab_size().numpy(),\n",
        "    target_vocab_size=tokenizers.en.get_vocab_size().numpy(),\n",
        "    dropout_rate=dropout_rate)"
      ],
      "metadata": {
        "id": "TEhArSsEuHhc"
      },
      "execution_count": null,
      "outputs": []
    },
    {
      "cell_type": "code",
      "source": [
        "brazilian_only_transformer.compile(\n",
        "    loss=masked_loss,\n",
        "    optimizer=optimizer,\n",
        "    metrics=[masked_accuracy])"
      ],
      "metadata": {
        "id": "xtbWIo5jt24Q"
      },
      "execution_count": null,
      "outputs": []
    },
    {
      "cell_type": "code",
      "source": [
        "brazilian_only_transformer.fit(bra_train_batches,\n",
        "                epochs=20,\n",
        "                validation_data=bra_val_batches)"
      ],
      "metadata": {
        "colab": {
          "base_uri": "https://localhost:8080/"
        },
        "id": "A3Z3e2xtw6an",
        "outputId": "02386e9f-c3e6-4d34-ad55-a6bf580f12cc"
      },
      "execution_count": null,
      "outputs": [
        {
          "output_type": "stream",
          "name": "stdout",
          "text": [
            "Epoch 1/20\n",
            "109/109 [==============================] - 39s 249ms/step - loss: 8.6636 - masked_accuracy: 0.0339 - val_loss: 8.3856 - val_masked_accuracy: 0.0523\n",
            "Epoch 2/20\n",
            "109/109 [==============================] - 24s 224ms/step - loss: 8.0110 - masked_accuracy: 0.0652 - val_loss: 7.5512 - val_masked_accuracy: 0.0913\n",
            "Epoch 3/20\n",
            "109/109 [==============================] - 26s 239ms/step - loss: 7.0776 - masked_accuracy: 0.0938 - val_loss: 6.6527 - val_masked_accuracy: 0.0941\n",
            "Epoch 4/20\n",
            "109/109 [==============================] - 25s 232ms/step - loss: 6.3746 - masked_accuracy: 0.1177 - val_loss: 6.1644 - val_masked_accuracy: 0.1456\n",
            "Epoch 5/20\n",
            "109/109 [==============================] - 25s 227ms/step - loss: 5.9297 - masked_accuracy: 0.1696 - val_loss: 5.6959 - val_masked_accuracy: 0.1957\n",
            "Epoch 6/20\n",
            "109/109 [==============================] - 27s 246ms/step - loss: 5.4464 - masked_accuracy: 0.2114 - val_loss: 5.2488 - val_masked_accuracy: 0.2338\n",
            "Epoch 7/20\n",
            "109/109 [==============================] - 27s 243ms/step - loss: 5.0231 - masked_accuracy: 0.2499 - val_loss: 4.9325 - val_masked_accuracy: 0.2671\n",
            "Epoch 8/20\n",
            "109/109 [==============================] - 26s 237ms/step - loss: 4.6654 - masked_accuracy: 0.2849 - val_loss: 4.6386 - val_masked_accuracy: 0.2926\n",
            "Epoch 9/20\n",
            "109/109 [==============================] - 26s 242ms/step - loss: 4.3408 - masked_accuracy: 0.3181 - val_loss: 4.3813 - val_masked_accuracy: 0.3249\n",
            "Epoch 10/20\n",
            "109/109 [==============================] - 26s 237ms/step - loss: 4.0250 - masked_accuracy: 0.3517 - val_loss: 4.1739 - val_masked_accuracy: 0.3440\n",
            "Epoch 11/20\n",
            "109/109 [==============================] - 28s 257ms/step - loss: 3.7366 - masked_accuracy: 0.3810 - val_loss: 3.9700 - val_masked_accuracy: 0.3659\n",
            "Epoch 12/20\n",
            "109/109 [==============================] - 28s 257ms/step - loss: 3.4599 - masked_accuracy: 0.4112 - val_loss: 3.7936 - val_masked_accuracy: 0.3900\n",
            "Epoch 13/20\n",
            "109/109 [==============================] - 27s 243ms/step - loss: 3.1927 - masked_accuracy: 0.4416 - val_loss: 3.6195 - val_masked_accuracy: 0.4092\n",
            "Epoch 14/20\n",
            "109/109 [==============================] - 29s 265ms/step - loss: 2.9347 - masked_accuracy: 0.4739 - val_loss: 3.4781 - val_masked_accuracy: 0.4384\n",
            "Epoch 15/20\n",
            "109/109 [==============================] - 26s 237ms/step - loss: 2.6774 - masked_accuracy: 0.5082 - val_loss: 3.3562 - val_masked_accuracy: 0.4545\n",
            "Epoch 16/20\n",
            "109/109 [==============================] - 26s 238ms/step - loss: 2.4354 - masked_accuracy: 0.5419 - val_loss: 3.2278 - val_masked_accuracy: 0.4738\n",
            "Epoch 17/20\n",
            "109/109 [==============================] - 27s 245ms/step - loss: 2.2000 - masked_accuracy: 0.5771 - val_loss: 3.1639 - val_masked_accuracy: 0.4900\n",
            "Epoch 18/20\n",
            "109/109 [==============================] - 27s 247ms/step - loss: 1.9863 - masked_accuracy: 0.6077 - val_loss: 3.1116 - val_masked_accuracy: 0.5014\n",
            "Epoch 19/20\n",
            "109/109 [==============================] - 26s 234ms/step - loss: 1.7928 - masked_accuracy: 0.6365 - val_loss: 3.0411 - val_masked_accuracy: 0.5177\n",
            "Epoch 20/20\n",
            "109/109 [==============================] - 27s 247ms/step - loss: 1.6157 - masked_accuracy: 0.6650 - val_loss: 3.0227 - val_masked_accuracy: 0.5229\n"
          ]
        },
        {
          "output_type": "execute_result",
          "data": {
            "text/plain": [
              "<keras.callbacks.History at 0x7f3f2422b510>"
            ]
          },
          "metadata": {},
          "execution_count": 116
        }
      ]
    },
    {
      "cell_type": "markdown",
      "source": [
        "# build translator wrapper for the model trained on brazilian data only"
      ],
      "metadata": {
        "id": "AMXpakWbyPQy"
      }
    },
    {
      "cell_type": "code",
      "source": [
        "brazilian_only_translater = Translator(tokenizers, brazilian_only_transformer)"
      ],
      "metadata": {
        "id": "p_e2xWQeyVw5"
      },
      "execution_count": null,
      "outputs": []
    },
    {
      "cell_type": "code",
      "source": [
        "sentence = 'este é um problema que temos que resolver.'\n",
        "ground_truth = 'this is a problem we have to solve .'\n",
        "\n",
        "translated_text, translated_tokens, attention_weights = brazilian_only_translater(\n",
        "    tf.constant(sentence))\n",
        "print_translation(sentence, translated_text, ground_truth)"
      ],
      "metadata": {
        "colab": {
          "base_uri": "https://localhost:8080/"
        },
        "id": "ezL5AqSXypGU",
        "outputId": "cd13022c-13a3-4224-9989-85f4ed3f699c"
      },
      "execution_count": null,
      "outputs": [
        {
          "output_type": "stream",
          "name": "stdout",
          "text": [
            "Input:         : este é um problema que temos que resolver.\n",
            "Prediction     : this is one indicated that anchored .\n",
            "Ground truth   : this is a problem we have to solve .\n"
          ]
        }
      ]
    },
    {
      "cell_type": "code",
      "source": [
        "brazilian_only_export_translator = ExportTranslator(brazilian_only_translater)"
      ],
      "metadata": {
        "id": "CnNahdB5ysMg"
      },
      "execution_count": null,
      "outputs": []
    },
    {
      "cell_type": "code",
      "source": [
        "sentences_to_translate = list(bleu_sentences['pt_sentence'])\n",
        "raw_translation = brazilian_only_export_translator(sentences_to_translate[0])\n",
        "str_translation = raw_translation.numpy().decode('UTF-8')\n",
        "(raw_translation, str_translation)"
      ],
      "metadata": {
        "colab": {
          "base_uri": "https://localhost:8080/"
        },
        "id": "G41Hpcd5y0dW",
        "outputId": "dd7f7dff-fc80-4fde-e79a-7ab0bdfcc23e"
      },
      "execution_count": null,
      "outputs": [
        {
          "output_type": "execute_result",
          "data": {
            "text/plain": [
              "(<tf.Tensor: shape=(), dtype=string, numpy=b'what [UNK] ignewally ?'>,\n",
              " 'what [UNK] ignewally ?')"
            ]
          },
          "metadata": {},
          "execution_count": 130
        }
      ]
    },
    {
      "cell_type": "markdown",
      "source": [
        "# evaluate bleu scores"
      ],
      "metadata": {
        "id": "niLSGDhOy1Ir"
      }
    },
    {
      "cell_type": "code",
      "source": [
        "score = compute_euro_bleu_score(brazilian_only_export_translator)\n",
        "f\"the bleu score on european portuguese of the trained on brazilian portuguese is {score}. Please note that this is a lower bound as we're only comparing to a single sentence\""
      ],
      "metadata": {
        "colab": {
          "base_uri": "https://localhost:8080/",
          "height": 365
        },
        "id": "l3uSBCBKy9BQ",
        "outputId": "417ee2a2-98d3-41ec-cfd2-e64954ef9073"
      },
      "execution_count": null,
      "outputs": [
        {
          "output_type": "stream",
          "name": "stderr",
          "text": [
            "/usr/local/lib/python3.7/dist-packages/nltk/translate/bleu_score.py:552: UserWarning: \n",
            "The hypothesis contains 0 counts of 2-gram overlaps.\n",
            "Therefore the BLEU score evaluates to 0, independently of\n",
            "how many N-gram overlaps of lower order it contains.\n",
            "Consider using lower n-gram order or use SmoothingFunction()\n",
            "  warnings.warn(_msg)\n",
            "/usr/local/lib/python3.7/dist-packages/nltk/translate/bleu_score.py:552: UserWarning: \n",
            "The hypothesis contains 0 counts of 3-gram overlaps.\n",
            "Therefore the BLEU score evaluates to 0, independently of\n",
            "how many N-gram overlaps of lower order it contains.\n",
            "Consider using lower n-gram order or use SmoothingFunction()\n",
            "  warnings.warn(_msg)\n",
            "/usr/local/lib/python3.7/dist-packages/nltk/translate/bleu_score.py:552: UserWarning: \n",
            "The hypothesis contains 0 counts of 4-gram overlaps.\n",
            "Therefore the BLEU score evaluates to 0, independently of\n",
            "how many N-gram overlaps of lower order it contains.\n",
            "Consider using lower n-gram order or use SmoothingFunction()\n",
            "  warnings.warn(_msg)\n"
          ]
        },
        {
          "output_type": "execute_result",
          "data": {
            "text/plain": [
              "\"the bleu score on european portuguese of the trained on brazilian portuguese is 0.21528671050631212. Please note that this is a lower bound as we're only comparing to a single sentence\""
            ],
            "application/vnd.google.colaboratory.intrinsic+json": {
              "type": "string"
            }
          },
          "metadata": {},
          "execution_count": 131
        }
      ]
    },
    {
      "cell_type": "code",
      "source": [
        "score = compute_bra_bleu_score(brazilian_only_export_translator)\n",
        "f\"the bleu score on brazilian portuguese of the trained on brazilian portuguese is {score}. Please note that this is a lower bound as we're only comparing to a single sentence\""
      ],
      "metadata": {
        "colab": {
          "base_uri": "https://localhost:8080/",
          "height": 52
        },
        "id": "wuZLcz1Yy_I2",
        "outputId": "6e8ecefe-b5dd-4d2d-dfe3-ac999d373a5c"
      },
      "execution_count": null,
      "outputs": [
        {
          "output_type": "execute_result",
          "data": {
            "text/plain": [
              "\"the bleu score on brazilian portuguese of the trained on brazilian portuguese is 12.641438000737951. Please note that this is a lower bound as we're only comparing to a single sentence\""
            ],
            "application/vnd.google.colaboratory.intrinsic+json": {
              "type": "string"
            }
          },
          "metadata": {},
          "execution_count": 132
        }
      ]
    }
  ],
  "metadata": {
    "colab": {
      "collapsed_sections": [
        "-cCvXbPkccV1",
        "eJxTd6aVnZyh",
        "-Yb35sTJcZq9",
        "mE9cEBWCMKOP",
        "vJAJ2_VlPXrZ",
        "wBY06TCqV2lv",
        "B7QcPJvmv6ix",
        "J6qrQxSpv34R",
        "Yq4NtLymD99-",
        "nLjScSWQv9M5",
        "QFv-FNYUmvpn",
        "SE1H51Ajm0q1",
        "6LO_48Owmx_o",
        "p-uO6ls8m2O5",
        "wsINyf1VEQLC",
        "g08YOE-zHRqY",
        "aB_03k0kTQLb",
        "afRtesfqGxVA",
        "1nQNrlYYZrVh",
        "PAYVO4un3P8H",
        "h4C2DjWA-ll6",
        "eZOXloNCvkmd"
      ],
      "provenance": []
    },
    "kernelspec": {
      "display_name": "Python 3",
      "name": "python3"
    },
    "accelerator": "GPU",
    "gpuClass": "standard"
  },
  "nbformat": 4,
  "nbformat_minor": 0
}